{
 "cells": [
  {
   "cell_type": "code",
   "execution_count": 1,
   "id": "objective-princess",
   "metadata": {},
   "outputs": [],
   "source": [
    "import pandas as pd\n",
    "import numpy as np\n",
    "from sklearn.preprocessing import LabelEncoder\n",
    "from sklearn.model_selection import cross_val_score\n",
    "from sklearn.model_selection import RepeatedStratifiedKFold\n",
    "from sklearn.ensemble import RandomForestClassifier\n",
    "from sklearn.tree import DecisionTreeClassifier"
   ]
  },
  {
   "cell_type": "code",
   "execution_count": null,
   "id": "stainless-forward",
   "metadata": {},
   "outputs": [],
   "source": []
  },
  {
   "cell_type": "code",
   "execution_count": 3,
   "id": "accepting-wright",
   "metadata": {},
   "outputs": [
    {
     "data": {
      "text/plain": [
       "7     6772\n",
       "0     6617\n",
       "4     5276\n",
       "3     3594\n",
       "6     2917\n",
       "10    1582\n",
       "1     1112\n",
       "8     1050\n",
       "2      903\n",
       "9      861\n",
       "5      661\n",
       "11     207\n",
       "dtype: int64"
      ]
     },
     "execution_count": 3,
     "metadata": {},
     "output_type": "execute_result"
    }
   ],
   "source": [
    "def load_dataset():\n",
    "    # load the dataset as a numpy array\n",
    "    X = pd.read_csv('clean/X_train.csv').values\n",
    "    y = pd.read_csv('clean/y_train.csv').values\n",
    "    y = LabelEncoder().fit_transform(y)\n",
    "    return X, y\n",
    "\n",
    "X, y = load_dataset()\n",
    "pd.DataFrame(y).value_counts()"
   ]
  },
  {
   "cell_type": "code",
   "execution_count": 4,
   "id": "mysterious-translator",
   "metadata": {},
   "outputs": [
    {
     "name": "stdout",
     "output_type": "stream",
     "text": [
      "Class=0, n=6617 (20.972%)\n",
      "Class=4, n=5276 (16.722%)\n",
      "Class=8, n=1050 (3.328%)\n",
      "Class=7, n=6772 (21.463%)\n",
      "Class=11, n=207 (0.656%)\n",
      "Class=10, n=1582 (5.014%)\n",
      "Class=3, n=3594 (11.391%)\n",
      "Class=6, n=2917 (9.245%)\n",
      "Class=1, n=1112 (3.524%)\n",
      "Class=2, n=903 (2.862%)\n",
      "Class=5, n=661 (2.095%)\n",
      "Class=9, n=861 (2.729%)\n"
     ]
    }
   ],
   "source": [
    "from collections import Counter\n",
    "counter = Counter(y)\n",
    "for k, v in counter.items():\n",
    "    per = v / len(y) * 100\n",
    "    print('Class=%d, n=%d (%.3f%%)' % (k, v, per))"
   ]
  },
  {
   "cell_type": "code",
   "execution_count": 4,
   "id": "harmful-contact",
   "metadata": {},
   "outputs": [],
   "source": [
    "def evaluate_model(X, y, model):\n",
    "    cv = RepeatedStratifiedKFold(n_splits=5, n_repeats=3, random_state=1)\n",
    "    scores = cross_val_score(model, X, y, scoring='accuracy', cv=cv, n_jobs=-1)\n",
    "    return np.mean(scores)"
   ]
  },
  {
   "cell_type": "code",
   "execution_count": 5,
   "id": "careful-father",
   "metadata": {},
   "outputs": [],
   "source": [
    "model = RandomForestClassifier(n_estimators=100, class_weight='balanced')"
   ]
  },
  {
   "cell_type": "code",
   "execution_count": 6,
   "id": "described-syracuse",
   "metadata": {},
   "outputs": [],
   "source": [
    "scores = evaluate_model(X, y, model)\n",
    "# summarize performance\n"
   ]
  },
  {
   "cell_type": "code",
   "execution_count": 7,
   "id": "figured-anime",
   "metadata": {},
   "outputs": [
    {
     "name": "stdout",
     "output_type": "stream",
     "text": [
      "Mean Accuracy: 0.436 (0.000)\n"
     ]
    }
   ],
   "source": [
    "print('Mean Accuracy: %.3f (%.3f)' % (np.mean(scores), np.std(scores)))"
   ]
  },
  {
   "cell_type": "code",
   "execution_count": 8,
   "id": "crucial-violation",
   "metadata": {},
   "outputs": [
    {
     "data": {
      "text/plain": [
       "RandomForestClassifier(class_weight='balanced')"
      ]
     },
     "execution_count": 8,
     "metadata": {},
     "output_type": "execute_result"
    }
   ],
   "source": [
    "model.fit(X, y)"
   ]
  },
  {
   "cell_type": "code",
   "execution_count": 20,
   "id": "attempted-salvation",
   "metadata": {},
   "outputs": [
    {
     "data": {
      "text/html": [
       "<div>\n",
       "<style scoped>\n",
       "    .dataframe tbody tr th:only-of-type {\n",
       "        vertical-align: middle;\n",
       "    }\n",
       "\n",
       "    .dataframe tbody tr th {\n",
       "        vertical-align: top;\n",
       "    }\n",
       "\n",
       "    .dataframe thead th {\n",
       "        text-align: right;\n",
       "    }\n",
       "</style>\n",
       "<table border=\"1\" class=\"dataframe\">\n",
       "  <thead>\n",
       "    <tr style=\"text-align: right;\">\n",
       "      <th></th>\n",
       "      <th>Role</th>\n",
       "      <th>Invested in Real Estate</th>\n",
       "      <th>Extra Hours</th>\n",
       "      <th>Invested in Stock Market</th>\n",
       "      <th>Favourite Sport</th>\n",
       "      <th>Gender</th>\n",
       "      <th>Languages Known</th>\n",
       "      <th>Sport Knowledge (in XP)</th>\n",
       "      <th>Average no. of leaves/month</th>\n",
       "      <th>Trades Done</th>\n",
       "      <th>Married(1/0)</th>\n",
       "      <th>Level of Education</th>\n",
       "      <th>Pay</th>\n",
       "      <th>ID Proof</th>\n",
       "      <th>Most Productive Hour</th>\n",
       "      <th>Tax Category</th>\n",
       "      <th>Income Category</th>\n",
       "      <th>Employer</th>\n",
       "      <th>Tax Paid</th>\n",
       "      <th>Id</th>\n",
       "    </tr>\n",
       "  </thead>\n",
       "  <tbody>\n",
       "    <tr>\n",
       "      <th>0</th>\n",
       "      <td>0</td>\n",
       "      <td>1</td>\n",
       "      <td>0</td>\n",
       "      <td>1</td>\n",
       "      <td>3</td>\n",
       "      <td>1</td>\n",
       "      <td>3</td>\n",
       "      <td>51.0</td>\n",
       "      <td>4</td>\n",
       "      <td>33</td>\n",
       "      <td>0</td>\n",
       "      <td>2</td>\n",
       "      <td>504.73</td>\n",
       "      <td>1</td>\n",
       "      <td>8</td>\n",
       "      <td>136</td>\n",
       "      <td>2</td>\n",
       "      <td>0</td>\n",
       "      <td>47302</td>\n",
       "      <td>5</td>\n",
       "    </tr>\n",
       "    <tr>\n",
       "      <th>1</th>\n",
       "      <td>1</td>\n",
       "      <td>1</td>\n",
       "      <td>1</td>\n",
       "      <td>1</td>\n",
       "      <td>5</td>\n",
       "      <td>1</td>\n",
       "      <td>3</td>\n",
       "      <td>93.0</td>\n",
       "      <td>3</td>\n",
       "      <td>26</td>\n",
       "      <td>1</td>\n",
       "      <td>2</td>\n",
       "      <td>720.73</td>\n",
       "      <td>1</td>\n",
       "      <td>8</td>\n",
       "      <td>214</td>\n",
       "      <td>2</td>\n",
       "      <td>0</td>\n",
       "      <td>45732</td>\n",
       "      <td>6</td>\n",
       "    </tr>\n",
       "    <tr>\n",
       "      <th>2</th>\n",
       "      <td>0</td>\n",
       "      <td>1</td>\n",
       "      <td>0</td>\n",
       "      <td>1</td>\n",
       "      <td>3</td>\n",
       "      <td>1</td>\n",
       "      <td>1</td>\n",
       "      <td>57.0</td>\n",
       "      <td>4</td>\n",
       "      <td>27</td>\n",
       "      <td>1</td>\n",
       "      <td>0</td>\n",
       "      <td>663.73</td>\n",
       "      <td>1</td>\n",
       "      <td>8</td>\n",
       "      <td>134</td>\n",
       "      <td>2</td>\n",
       "      <td>0</td>\n",
       "      <td>22727</td>\n",
       "      <td>11</td>\n",
       "    </tr>\n",
       "    <tr>\n",
       "      <th>3</th>\n",
       "      <td>0</td>\n",
       "      <td>1</td>\n",
       "      <td>0</td>\n",
       "      <td>1</td>\n",
       "      <td>4</td>\n",
       "      <td>0</td>\n",
       "      <td>2</td>\n",
       "      <td>79.0</td>\n",
       "      <td>5</td>\n",
       "      <td>51</td>\n",
       "      <td>0</td>\n",
       "      <td>0</td>\n",
       "      <td>279.73</td>\n",
       "      <td>1</td>\n",
       "      <td>8</td>\n",
       "      <td>514</td>\n",
       "      <td>2</td>\n",
       "      <td>0</td>\n",
       "      <td>40778</td>\n",
       "      <td>12</td>\n",
       "    </tr>\n",
       "    <tr>\n",
       "      <th>4</th>\n",
       "      <td>1</td>\n",
       "      <td>1</td>\n",
       "      <td>0</td>\n",
       "      <td>1</td>\n",
       "      <td>2</td>\n",
       "      <td>0</td>\n",
       "      <td>4</td>\n",
       "      <td>41.0</td>\n",
       "      <td>0</td>\n",
       "      <td>56</td>\n",
       "      <td>0</td>\n",
       "      <td>0</td>\n",
       "      <td>344.73</td>\n",
       "      <td>1</td>\n",
       "      <td>8</td>\n",
       "      <td>68</td>\n",
       "      <td>2</td>\n",
       "      <td>0</td>\n",
       "      <td>35447</td>\n",
       "      <td>13</td>\n",
       "    </tr>\n",
       "    <tr>\n",
       "      <th>...</th>\n",
       "      <td>...</td>\n",
       "      <td>...</td>\n",
       "      <td>...</td>\n",
       "      <td>...</td>\n",
       "      <td>...</td>\n",
       "      <td>...</td>\n",
       "      <td>...</td>\n",
       "      <td>...</td>\n",
       "      <td>...</td>\n",
       "      <td>...</td>\n",
       "      <td>...</td>\n",
       "      <td>...</td>\n",
       "      <td>...</td>\n",
       "      <td>...</td>\n",
       "      <td>...</td>\n",
       "      <td>...</td>\n",
       "      <td>...</td>\n",
       "      <td>...</td>\n",
       "      <td>...</td>\n",
       "      <td>...</td>\n",
       "    </tr>\n",
       "    <tr>\n",
       "      <th>13654</th>\n",
       "      <td>1</td>\n",
       "      <td>1</td>\n",
       "      <td>0</td>\n",
       "      <td>0</td>\n",
       "      <td>6</td>\n",
       "      <td>1</td>\n",
       "      <td>4</td>\n",
       "      <td>36.0</td>\n",
       "      <td>5</td>\n",
       "      <td>73</td>\n",
       "      <td>-1</td>\n",
       "      <td>2</td>\n",
       "      <td>4083.73</td>\n",
       "      <td>0</td>\n",
       "      <td>9</td>\n",
       "      <td>259</td>\n",
       "      <td>3</td>\n",
       "      <td>0</td>\n",
       "      <td>16241</td>\n",
       "      <td>45191</td>\n",
       "    </tr>\n",
       "    <tr>\n",
       "      <th>13655</th>\n",
       "      <td>1</td>\n",
       "      <td>1</td>\n",
       "      <td>0</td>\n",
       "      <td>0</td>\n",
       "      <td>0</td>\n",
       "      <td>1</td>\n",
       "      <td>3</td>\n",
       "      <td>1.0</td>\n",
       "      <td>0</td>\n",
       "      <td>27</td>\n",
       "      <td>1</td>\n",
       "      <td>2</td>\n",
       "      <td>1038.73</td>\n",
       "      <td>0</td>\n",
       "      <td>9</td>\n",
       "      <td>235</td>\n",
       "      <td>2</td>\n",
       "      <td>0</td>\n",
       "      <td>25361</td>\n",
       "      <td>45192</td>\n",
       "    </tr>\n",
       "    <tr>\n",
       "      <th>13656</th>\n",
       "      <td>0</td>\n",
       "      <td>0</td>\n",
       "      <td>1</td>\n",
       "      <td>0</td>\n",
       "      <td>3</td>\n",
       "      <td>1</td>\n",
       "      <td>1</td>\n",
       "      <td>48.0</td>\n",
       "      <td>1</td>\n",
       "      <td>26</td>\n",
       "      <td>1</td>\n",
       "      <td>2</td>\n",
       "      <td>3577.73</td>\n",
       "      <td>0</td>\n",
       "      <td>9</td>\n",
       "      <td>446</td>\n",
       "      <td>6</td>\n",
       "      <td>0</td>\n",
       "      <td>15414</td>\n",
       "      <td>45193</td>\n",
       "    </tr>\n",
       "    <tr>\n",
       "      <th>13657</th>\n",
       "      <td>0</td>\n",
       "      <td>0</td>\n",
       "      <td>0</td>\n",
       "      <td>0</td>\n",
       "      <td>2</td>\n",
       "      <td>0</td>\n",
       "      <td>1</td>\n",
       "      <td>15.0</td>\n",
       "      <td>0</td>\n",
       "      <td>51</td>\n",
       "      <td>0</td>\n",
       "      <td>2</td>\n",
       "      <td>856.73</td>\n",
       "      <td>0</td>\n",
       "      <td>9</td>\n",
       "      <td>223</td>\n",
       "      <td>6</td>\n",
       "      <td>0</td>\n",
       "      <td>31697</td>\n",
       "      <td>45201</td>\n",
       "    </tr>\n",
       "    <tr>\n",
       "      <th>13658</th>\n",
       "      <td>0</td>\n",
       "      <td>0</td>\n",
       "      <td>0</td>\n",
       "      <td>1</td>\n",
       "      <td>3</td>\n",
       "      <td>0</td>\n",
       "      <td>1</td>\n",
       "      <td>78.0</td>\n",
       "      <td>3</td>\n",
       "      <td>35</td>\n",
       "      <td>0</td>\n",
       "      <td>0</td>\n",
       "      <td>3244.73</td>\n",
       "      <td>0</td>\n",
       "      <td>9</td>\n",
       "      <td>358</td>\n",
       "      <td>13</td>\n",
       "      <td>0</td>\n",
       "      <td>27483</td>\n",
       "      <td>45210</td>\n",
       "    </tr>\n",
       "  </tbody>\n",
       "</table>\n",
       "<p>13659 rows × 20 columns</p>\n",
       "</div>"
      ],
      "text/plain": [
       "       Role  Invested in Real Estate  Extra Hours  Invested in Stock Market  \\\n",
       "0         0                        1            0                         1   \n",
       "1         1                        1            1                         1   \n",
       "2         0                        1            0                         1   \n",
       "3         0                        1            0                         1   \n",
       "4         1                        1            0                         1   \n",
       "...     ...                      ...          ...                       ...   \n",
       "13654     1                        1            0                         0   \n",
       "13655     1                        1            0                         0   \n",
       "13656     0                        0            1                         0   \n",
       "13657     0                        0            0                         0   \n",
       "13658     0                        0            0                         1   \n",
       "\n",
       "       Favourite Sport  Gender  Languages Known  Sport Knowledge (in XP)  \\\n",
       "0                    3       1                3                     51.0   \n",
       "1                    5       1                3                     93.0   \n",
       "2                    3       1                1                     57.0   \n",
       "3                    4       0                2                     79.0   \n",
       "4                    2       0                4                     41.0   \n",
       "...                ...     ...              ...                      ...   \n",
       "13654                6       1                4                     36.0   \n",
       "13655                0       1                3                      1.0   \n",
       "13656                3       1                1                     48.0   \n",
       "13657                2       0                1                     15.0   \n",
       "13658                3       0                1                     78.0   \n",
       "\n",
       "       Average no. of leaves/month  Trades Done  Married(1/0)  \\\n",
       "0                                4           33             0   \n",
       "1                                3           26             1   \n",
       "2                                4           27             1   \n",
       "3                                5           51             0   \n",
       "4                                0           56             0   \n",
       "...                            ...          ...           ...   \n",
       "13654                            5           73            -1   \n",
       "13655                            0           27             1   \n",
       "13656                            1           26             1   \n",
       "13657                            0           51             0   \n",
       "13658                            3           35             0   \n",
       "\n",
       "       Level of Education      Pay  ID Proof  Most Productive Hour  \\\n",
       "0                       2   504.73         1                     8   \n",
       "1                       2   720.73         1                     8   \n",
       "2                       0   663.73         1                     8   \n",
       "3                       0   279.73         1                     8   \n",
       "4                       0   344.73         1                     8   \n",
       "...                   ...      ...       ...                   ...   \n",
       "13654                   2  4083.73         0                     9   \n",
       "13655                   2  1038.73         0                     9   \n",
       "13656                   2  3577.73         0                     9   \n",
       "13657                   2   856.73         0                     9   \n",
       "13658                   0  3244.73         0                     9   \n",
       "\n",
       "       Tax Category  Income Category  Employer  Tax Paid     Id  \n",
       "0               136                2         0     47302      5  \n",
       "1               214                2         0     45732      6  \n",
       "2               134                2         0     22727     11  \n",
       "3               514                2         0     40778     12  \n",
       "4                68                2         0     35447     13  \n",
       "...             ...              ...       ...       ...    ...  \n",
       "13654           259                3         0     16241  45191  \n",
       "13655           235                2         0     25361  45192  \n",
       "13656           446                6         0     15414  45193  \n",
       "13657           223                6         0     31697  45201  \n",
       "13658           358               13         0     27483  45210  \n",
       "\n",
       "[13659 rows x 20 columns]"
      ]
     },
     "execution_count": 20,
     "metadata": {},
     "output_type": "execute_result"
    }
   ],
   "source": [
    "test = pd.read_csv('clean/X_test.csv')\n",
    "test"
   ]
  },
  {
   "cell_type": "code",
   "execution_count": 10,
   "id": "frank-sight",
   "metadata": {},
   "outputs": [
    {
     "name": "stdout",
     "output_type": "stream",
     "text": [
      "7     5167\n",
      "0     4074\n",
      "4     1824\n",
      "3     1066\n",
      "10     870\n",
      "6      396\n",
      "5      205\n",
      "9       41\n",
      "2       11\n",
      "1        4\n",
      "8        1\n",
      "dtype: int64\n"
     ]
    }
   ],
   "source": [
    "preds = pd.DataFrame(model.predict(test))\n",
    "print(preds.value_counts())\n",
    "pd.DataFrame({\n",
    "    'Id': test['Id'],\n",
    "    'Occupation': preds[0]\n",
    "}).to_csv('output/last_preds.csv', index = False)"
   ]
  },
  {
   "cell_type": "code",
   "execution_count": null,
   "id": "continuing-catering",
   "metadata": {},
   "outputs": [],
   "source": []
  },
  {
   "cell_type": "code",
   "execution_count": 11,
   "id": "norman-billion",
   "metadata": {},
   "outputs": [
    {
     "name": "stderr",
     "output_type": "stream",
     "text": [
      "/home/nachiket/.local/lib/python3.8/site-packages/sklearn/utils/validation.py:63: DataConversionWarning: A column-vector y was passed when a 1d array was expected. Please change the shape of y to (n_samples, ), for example using ravel().\n",
      "  return f(*args, **kwargs)\n"
     ]
    },
    {
     "name": "stdout",
     "output_type": "stream",
     "text": [
      "0.4338657035908508\n"
     ]
    }
   ],
   "source": [
    "models = [\n",
    "    RandomForestClassifier(n_estimators=100, max_depth = 20, class_weight='balanced')\n",
    "]\n",
    "X, y = load_dataset()\n",
    "for model in models:\n",
    "    score = evaluate_model(X, y, model)\n",
    "    print(score)"
   ]
  },
  {
   "cell_type": "code",
   "execution_count": null,
   "id": "removed-limitation",
   "metadata": {},
   "outputs": [],
   "source": []
  },
  {
   "cell_type": "code",
   "execution_count": 5,
   "id": "stuck-reggae",
   "metadata": {},
   "outputs": [],
   "source": [
    "from sklearn.preprocessing import LabelEncoder, OneHotEncoder, StandardScaler\n",
    "from sklearn.model_selection import StratifiedKFold\n",
    "from sklearn.decomposition import PCA\n",
    "from sklearn.manifold import TSNE\n",
    "from sklearn.ensemble import RandomForestClassifier, AdaBoostClassifier\n",
    "from sklearn.naive_bayes import BernoulliNB, GaussianNB, MultinomialNB\n",
    "from sklearn.neighbors import KNeighborsClassifier\n",
    "from sklearn.neural_network import MLPClassifier\n",
    "from sklearn.linear_model import RidgeClassifier\n",
    "from sklearn.utils.class_weight import compute_class_weight, compute_sample_weight\n",
    "from catboost import CatBoostClassifier"
   ]
  },
  {
   "cell_type": "code",
   "execution_count": 6,
   "id": "developed-dominant",
   "metadata": {},
   "outputs": [
    {
     "data": {
      "text/plain": [
       "Occupation\n",
       "7             6772\n",
       "0             6617\n",
       "4             5276\n",
       "3             3594\n",
       "6             2917\n",
       "10            1582\n",
       "1             1112\n",
       "8             1050\n",
       "2              903\n",
       "9              861\n",
       "5              661\n",
       "11             207\n",
       "dtype: int64"
      ]
     },
     "execution_count": 6,
     "metadata": {},
     "output_type": "execute_result"
    }
   ],
   "source": [
    "X_train = pd.read_csv('clean/X_train.csv')\n",
    "y_train = pd.read_csv('clean/y_train.csv')\n",
    "X_test = pd.read_csv('clean/X_test.csv')\n",
    "y_train.value_counts()"
   ]
  },
  {
   "cell_type": "code",
   "execution_count": 7,
   "id": "mature-renewal",
   "metadata": {},
   "outputs": [
    {
     "name": "stdout",
     "output_type": "stream",
     "text": [
      "10:49:38\n"
     ]
    }
   ],
   "source": [
    "import datetime\n",
    "now = datetime.datetime.now()\n",
    "print (now.strftime(\"%H:%M:%S\"))"
   ]
  },
  {
   "cell_type": "code",
   "execution_count": 18,
   "id": "acknowledged-shift",
   "metadata": {},
   "outputs": [],
   "source": [
    "def make_sub(name, preds):\n",
    "    print('Making submission ...')\n",
    "    now = datetime.datetime.now()\n",
    "    name = 'LAST_'+ name + '_' + now.strftime(\"%H:%M:%S\")\n",
    "    print(f'File name = {name}')\n",
    "    file_name = f'output/{name}.csv'\n",
    "    pd.DataFrame({\n",
    "        'Id': test['Id'],\n",
    "        'Occupation': preds\n",
    "    }).to_csv(file_name, index = False)"
   ]
  },
  {
   "cell_type": "code",
   "execution_count": 9,
   "id": "packed-blanket",
   "metadata": {},
   "outputs": [
    {
     "name": "stdout",
     "output_type": "stream",
     "text": [
      "[ 0.39736033  2.36450839  2.91177556  0.73158969  0.49835734  3.9778114\n",
      "  0.9013827   0.38826541  2.50412698  3.0538134   1.66203118 12.7020934 ]\n"
     ]
    },
    {
     "name": "stderr",
     "output_type": "stream",
     "text": [
      "/home/nachiket/.local/lib/python3.8/site-packages/sklearn/utils/validation.py:70: FutureWarning: Pass classes=[ 0  1  2  3  4  5  6  7  8  9 10 11], y=[ 0  4  8 ... 10 10  7] as keyword args. From version 1.0 (renaming of 0.25) passing these as positional arguments will result in an error\n",
      "  warnings.warn(f\"Pass {args_msg} as keyword args. From version \"\n"
     ]
    }
   ],
   "source": [
    "class_weights = compute_class_weight('balanced', np.sort(y_train['Occupation'].unique()), y_train['Occupation'].values)\n",
    "print(class_weights)"
   ]
  },
  {
   "cell_type": "code",
   "execution_count": 10,
   "id": "acting-clearance",
   "metadata": {},
   "outputs": [
    {
     "name": "stdout",
     "output_type": "stream",
     "text": [
      "{0, 1, 2, 3, 4, 5, 6, 7, 8, 9, 10, 11}\n"
     ]
    }
   ],
   "source": [
    "# Initializing CatBoost classifier, fitting and then predicting\n",
    "cat_model = CatBoostClassifier(iterations=100, learning_rate=0.3, depth=5, loss_function='MultiClass', classes_count=12, logging_level='Silent', l2_leaf_reg=2, thread_count=4, class_weights=class_weights)\n",
    "cat_model.fit(X_train, y_train)\n",
    "cat_preds = cat_model.predict(X_test)\n",
    "cat_preds = cat_preds.reshape((-1,)).astype(int)\n",
    "print(set(cat_preds))"
   ]
  },
  {
   "cell_type": "code",
   "execution_count": 11,
   "id": "returning-egypt",
   "metadata": {},
   "outputs": [
    {
     "name": "stderr",
     "output_type": "stream",
     "text": [
      "<ipython-input-11-0b5e861fddb3>:3: DataConversionWarning: A column-vector y was passed when a 1d array was expected. Please change the shape of y to (n_samples,), for example using ravel().\n",
      "  rfc_clf.fit(X_train, y_train)\n"
     ]
    },
    {
     "name": "stdout",
     "output_type": "stream",
     "text": [
      "{0, 1, 2, 3, 4, 5, 6, 7, 8, 9, 10, 11}\n"
     ]
    }
   ],
   "source": [
    "# Initializing Random Forest classifier, fitting and then predicting\n",
    "rfc_clf = RandomForestClassifier(n_estimators=70, max_depth=18, max_features=0.8, n_jobs=4, class_weight='balanced')\n",
    "rfc_clf.fit(X_train, y_train)\n",
    "rfc_preds = rfc_clf.predict(X_test).astype(int)\n",
    "print(set(rfc_preds))"
   ]
  },
  {
   "cell_type": "code",
   "execution_count": 12,
   "id": "complimentary-factor",
   "metadata": {},
   "outputs": [
    {
     "name": "stderr",
     "output_type": "stream",
     "text": [
      "/home/nachiket/.local/lib/python3.8/site-packages/sklearn/utils/validation.py:63: DataConversionWarning: A column-vector y was passed when a 1d array was expected. Please change the shape of y to (n_samples, ), for example using ravel().\n",
      "  return f(*args, **kwargs)\n"
     ]
    },
    {
     "name": "stdout",
     "output_type": "stream",
     "text": [
      "{0, 1, 2, 3, 4, 5, 6, 7, 8, 9, 10, 11}\n"
     ]
    }
   ],
   "source": [
    "# Initializing Adam Boost classifier, fitting and then predicting\n",
    "ada_clf = AdaBoostClassifier(n_estimators=70, learning_rate=0.3)\n",
    "ada_clf.fit(X_train, y_train, sample_weight=[class_weights[int(y_train.values[i])] for i in range(y_train.shape[0])])\n",
    "ada_preds = ada_clf.predict(X_test).astype(int)\n",
    "print(set(ada_preds))"
   ]
  },
  {
   "cell_type": "code",
   "execution_count": 13,
   "id": "transsexual-secondary",
   "metadata": {},
   "outputs": [
    {
     "data": {
      "text/plain": [
       "[0.3973603344919651,\n",
       " 0.4983573414202679,\n",
       " 2.504126984126984,\n",
       " 0.38826540657609765,\n",
       " 12.702093397745571]"
      ]
     },
     "execution_count": 13,
     "metadata": {},
     "output_type": "execute_result"
    }
   ],
   "source": [
    "[class_weights[int(y_train.values[i])] for i in range(y_train.shape[0])][:5]"
   ]
  },
  {
   "cell_type": "code",
   "execution_count": 14,
   "id": "comparative-luther",
   "metadata": {},
   "outputs": [
    {
     "name": "stdout",
     "output_type": "stream",
     "text": [
      "{0, 1, 3, 4, 5, 6, 7, 8, 9, 10, 11}\n"
     ]
    },
    {
     "name": "stderr",
     "output_type": "stream",
     "text": [
      "/home/nachiket/.local/lib/python3.8/site-packages/sklearn/utils/validation.py:63: DataConversionWarning: A column-vector y was passed when a 1d array was expected. Please change the shape of y to (n_samples, ), for example using ravel().\n",
      "  return f(*args, **kwargs)\n"
     ]
    }
   ],
   "source": [
    "# Initializing Bernoulli naive-bayes classifier, fitting and then predicting\n",
    "bernoulli_clf = BernoulliNB()\n",
    "bernoulli_clf.fit(X_train, y_train, sample_weight=[class_weights[int(y_train.values[i])] for i in range(y_train.shape[0])])\n",
    "bernoulli_preds = bernoulli_clf.predict(X_test).astype(int)\n",
    "print(set(bernoulli_preds))"
   ]
  },
  {
   "cell_type": "code",
   "execution_count": 15,
   "id": "continuing-butterfly",
   "metadata": {},
   "outputs": [
    {
     "name": "stdout",
     "output_type": "stream",
     "text": [
      "{0, 1, 2, 3, 4, 5, 6, 7, 8, 9, 10, 11}\n"
     ]
    },
    {
     "name": "stderr",
     "output_type": "stream",
     "text": [
      "/home/nachiket/.local/lib/python3.8/site-packages/sklearn/utils/validation.py:63: DataConversionWarning: A column-vector y was passed when a 1d array was expected. Please change the shape of y to (n_samples, ), for example using ravel().\n",
      "  return f(*args, **kwargs)\n"
     ]
    }
   ],
   "source": [
    "# Initializing Gaussian naive-bayes classifier, fitting and then predicting\n",
    "gaussian_clf = GaussianNB()\n",
    "gaussian_clf.fit(X_train, y_train, sample_weight=[class_weights[int(y_train.values[i])] for i in range(y_train.shape[0])])\n",
    "gaussian_preds = gaussian_clf.predict(X_test).astype(int)\n",
    "print(set(gaussian_preds))"
   ]
  },
  {
   "cell_type": "code",
   "execution_count": 16,
   "id": "educational-identity",
   "metadata": {},
   "outputs": [
    {
     "name": "stderr",
     "output_type": "stream",
     "text": [
      "/home/nachiket/.local/lib/python3.8/site-packages/sklearn/neighbors/_classification.py:179: DataConversionWarning: A column-vector y was passed when a 1d array was expected. Please change the shape of y to (n_samples,), for example using ravel().\n",
      "  return self._fit(X, y)\n"
     ]
    },
    {
     "name": "stdout",
     "output_type": "stream",
     "text": [
      "{0, 1, 2, 3, 4, 5, 6, 7, 8, 9, 10, 11}\n"
     ]
    }
   ],
   "source": [
    "# Initializing KNN classifier, fitting and then predicting\n",
    "knn_clf = KNeighborsClassifier(n_neighbors=8, weights='uniform', n_jobs=4)\n",
    "knn_clf.fit(X_train, y_train)\n",
    "knn_preds = knn_clf.predict(X_test).astype(int)\n",
    "print(set(knn_preds))"
   ]
  },
  {
   "cell_type": "code",
   "execution_count": 17,
   "id": "appropriate-hormone",
   "metadata": {},
   "outputs": [
    {
     "name": "stderr",
     "output_type": "stream",
     "text": [
      "/home/nachiket/.local/lib/python3.8/site-packages/sklearn/utils/validation.py:63: DataConversionWarning: A column-vector y was passed when a 1d array was expected. Please change the shape of y to (n_samples, ), for example using ravel().\n",
      "  return f(*args, **kwargs)\n"
     ]
    },
    {
     "name": "stdout",
     "output_type": "stream",
     "text": [
      "{0, 1, 3, 4, 6, 7, 8, 10, 11}\n"
     ]
    }
   ],
   "source": [
    "# Initializing Multilayer Perceptron, fitting and then predicting\n",
    "mlp_clf = MLPClassifier(hidden_layer_sizes=(50), batch_size=50, learning_rate='constant', learning_rate_init=0.0005, early_stopping=True)\n",
    "mlp_clf.fit(X_train, y_train)\n",
    "mlp_preds = mlp_clf.predict(X_test).astype(int)\n",
    "print(set(mlp_preds))"
   ]
  },
  {
   "cell_type": "code",
   "execution_count": 21,
   "id": "frequent-victor",
   "metadata": {},
   "outputs": [
    {
     "name": "stdout",
     "output_type": "stream",
     "text": [
      "Model = catboost\n",
      "Making submission ...\n",
      "File name = LAST_catboost_10:52:59\n",
      "Model = random_forest\n",
      "Making submission ...\n",
      "File name = LAST_random_forest_10:52:59\n",
      "Model = adaboost\n",
      "Making submission ...\n",
      "File name = LAST_adaboost_10:52:59\n",
      "Model = bernoulli\n",
      "Making submission ...\n",
      "File name = LAST_bernoulli_10:52:59\n",
      "Model = gaussian\n",
      "Making submission ...\n",
      "File name = LAST_gaussian_10:52:59\n",
      "Model = knn\n",
      "Making submission ...\n",
      "File name = LAST_knn_10:52:59\n",
      "Model = mlp\n",
      "Making submission ...\n",
      "File name = LAST_mlp_10:52:59\n"
     ]
    }
   ],
   "source": [
    "N = 7\n",
    "models = [\n",
    "    cat_model,\n",
    "    rfc_clf,\n",
    "    ada_clf,\n",
    "    bernoulli_clf,\n",
    "    gaussian_clf,\n",
    "    knn_clf,\n",
    "    mlp_clf\n",
    "]\n",
    "\n",
    "predictions = [\n",
    "    ('catboost', cat_preds),\n",
    "    ('random_forest', rfc_preds),\n",
    "    ('adaboost', ada_preds),\n",
    "    ('bernoulli', bernoulli_preds),\n",
    "    ('gaussian', gaussian_preds),\n",
    "    ('knn', knn_preds),\n",
    "    ('mlp', mlp_preds)\n",
    "]\n",
    "\n",
    "def evaluate_model(X, y, model):\n",
    "    cv = RepeatedStratifiedKFold(n_splits=5, n_repeats=3, random_state=1)\n",
    "    scores = cross_val_score(model, X, y, scoring='accuracy', cv=cv, n_jobs=-1)\n",
    "    return np.mean(scores)\n",
    "\n",
    "for i in range(N):\n",
    "    name, preds = predictions[i]\n",
    "    score = evaluate_model(models[i])\n",
    "    print(f'Model = {name}, score = {score}')\n",
    "    make_sub(name + str(score), )"
   ]
  },
  {
   "cell_type": "code",
   "execution_count": null,
   "id": "biological-occurrence",
   "metadata": {},
   "outputs": [],
   "source": [
    "for name, preds in predictions:"
   ]
  },
  {
   "cell_type": "code",
   "execution_count": null,
   "id": "surgical-channel",
   "metadata": {},
   "outputs": [],
   "source": []
  },
  {
   "cell_type": "code",
   "execution_count": null,
   "id": "special-passage",
   "metadata": {},
   "outputs": [],
   "source": []
  },
  {
   "cell_type": "code",
   "execution_count": null,
   "id": "therapeutic-universe",
   "metadata": {},
   "outputs": [],
   "source": []
  }
 ],
 "metadata": {
  "kernelspec": {
   "display_name": "Python 3",
   "language": "python",
   "name": "python3"
  },
  "language_info": {
   "codemirror_mode": {
    "name": "ipython",
    "version": 3
   },
   "file_extension": ".py",
   "mimetype": "text/x-python",
   "name": "python",
   "nbconvert_exporter": "python",
   "pygments_lexer": "ipython3",
   "version": "3.8.5"
  }
 },
 "nbformat": 4,
 "nbformat_minor": 5
}
