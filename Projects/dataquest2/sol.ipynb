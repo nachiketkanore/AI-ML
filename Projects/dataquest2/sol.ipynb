{
 "cells": [
  {
   "cell_type": "code",
   "execution_count": 3,
   "id": "nervous-industry",
   "metadata": {},
   "outputs": [],
   "source": [
    "import numpy as np\n",
    "import pandas as pd\n",
    "\n",
    "from sklearn.ensemble import RandomForestClassifier\n",
    "from sklearn.multioutput import MultiOutputClassifier"
   ]
  },
  {
   "cell_type": "code",
   "execution_count": 6,
   "id": "southwest-tongue",
   "metadata": {},
   "outputs": [
    {
     "name": "stdout",
     "output_type": "stream",
     "text": [
      "(742, 31) (318, 17)\n"
     ]
    }
   ],
   "source": [
    "train = pd.read_csv('input/train.csv')\n",
    "test = pd.read_csv('input/test.csv')\n",
    "\n",
    "print(train.shape, test.shape)"
   ]
  },
  {
   "cell_type": "code",
   "execution_count": 7,
   "id": "revolutionary-bibliography",
   "metadata": {},
   "outputs": [
    {
     "name": "stdout",
     "output_type": "stream",
     "text": [
      "['38100' '57500' '55800' '59300' '29600' '33400' '25400' '19400' '50390'\n",
      " '37880' '17300' '49700' '34500' '30400']\n"
     ]
    }
   ],
   "source": [
    "target_cols = train.columns.values[-14:]\n",
    "print(target_cols)"
   ]
  },
  {
   "cell_type": "code",
   "execution_count": 10,
   "id": "integral-invasion",
   "metadata": {},
   "outputs": [],
   "source": [
    "def get_data():\n",
    "    train = pd.read_csv('input/train.csv')\n",
    "    test = pd.read_csv('input/test.csv')\n",
    "\n",
    "    y = train[target_cols]\n",
    "    train.drop(target_cols, axis = 1, inplace = True)\n",
    "\n",
    "    return (train, y, test)\n",
    "X_train, y_train, X_test = get_data()"
   ]
  },
  {
   "cell_type": "code",
   "execution_count": 22,
   "id": "warming-honey",
   "metadata": {},
   "outputs": [
    {
     "name": "stdout",
     "output_type": "stream",
     "text": [
      "<class 'pandas.core.frame.DataFrame'>\n",
      "RangeIndex: 742 entries, 0 to 741\n",
      "Data columns (total 17 columns):\n",
      " #   Column                  Non-Null Count  Dtype  \n",
      "---  ------                  --------------  -----  \n",
      " 0   ids                     742 non-null    int64  \n",
      " 1   bod                     742 non-null    float64\n",
      " 2   ammonium                742 non-null    float64\n",
      " 3   silicon_dixoide         742 non-null    float64\n",
      " 4   potassium_dichromate    742 non-null    float64\n",
      " 5   oxygen_saturation       742 non-null    float64\n",
      " 6   conduct                 742 non-null    float64\n",
      " 7   nitrogen_dioxide        742 non-null    float64\n",
      " 8   hardness                742 non-null    float64\n",
      " 9   nitrate                 742 non-null    float64\n",
      " 10  carbon_dioxide          742 non-null    float64\n",
      " 11  potassium_permanganate  742 non-null    float64\n",
      " 12  chlorine                742 non-null    float64\n",
      " 13  phosphate               742 non-null    float64\n",
      " 14  oxygen                  742 non-null    float64\n",
      " 15  standard_ph             742 non-null    float64\n",
      " 16  standard_temperature    742 non-null    float64\n",
      "dtypes: float64(16), int64(1)\n",
      "memory usage: 98.7 KB\n"
     ]
    }
   ],
   "source": [
    "X_train.info()"
   ]
  },
  {
   "cell_type": "code",
   "execution_count": 14,
   "id": "opening-persian",
   "metadata": {},
   "outputs": [
    {
     "data": {
      "text/plain": [
       "RandomForestClassifier()"
      ]
     },
     "execution_count": 14,
     "metadata": {},
     "output_type": "execute_result"
    }
   ],
   "source": [
    "model = (RandomForestClassifier())\n",
    "model.fit(X_train, y_train)"
   ]
  },
  {
   "cell_type": "code",
   "execution_count": 16,
   "id": "thrown-respondent",
   "metadata": {},
   "outputs": [
    {
     "data": {
      "text/plain": [
       "array([0.07067265, 0.0680143 , 0.05787249, 0.05778849, 0.07566987,\n",
       "       0.05890073, 0.064563  , 0.04773569, 0.06245244, 0.06712469,\n",
       "       0.01989198, 0.06092994, 0.07211609, 0.04720447, 0.05452855,\n",
       "       0.04801981, 0.06651478])"
      ]
     },
     "execution_count": 16,
     "metadata": {},
     "output_type": "execute_result"
    }
   ],
   "source": [
    "model.feature_importances_"
   ]
  },
  {
   "cell_type": "code",
   "execution_count": 17,
   "id": "fifth-slovak",
   "metadata": {},
   "outputs": [],
   "source": [
    "imp = list(model.feature_importances_)\n",
    "cols = X_train.columns.values"
   ]
  },
  {
   "cell_type": "code",
   "execution_count": 18,
   "id": "defined-dividend",
   "metadata": {},
   "outputs": [
    {
     "data": {
      "text/html": [
       "<div>\n",
       "<style scoped>\n",
       "    .dataframe tbody tr th:only-of-type {\n",
       "        vertical-align: middle;\n",
       "    }\n",
       "\n",
       "    .dataframe tbody tr th {\n",
       "        vertical-align: top;\n",
       "    }\n",
       "\n",
       "    .dataframe thead th {\n",
       "        text-align: right;\n",
       "    }\n",
       "</style>\n",
       "<table border=\"1\" class=\"dataframe\">\n",
       "  <thead>\n",
       "    <tr style=\"text-align: right;\">\n",
       "      <th></th>\n",
       "      <th>feature</th>\n",
       "      <th>importance</th>\n",
       "    </tr>\n",
       "  </thead>\n",
       "  <tbody>\n",
       "    <tr>\n",
       "      <th>4</th>\n",
       "      <td>potassium_dichromate</td>\n",
       "      <td>0.075670</td>\n",
       "    </tr>\n",
       "    <tr>\n",
       "      <th>12</th>\n",
       "      <td>chlorine</td>\n",
       "      <td>0.072116</td>\n",
       "    </tr>\n",
       "    <tr>\n",
       "      <th>0</th>\n",
       "      <td>ids</td>\n",
       "      <td>0.070673</td>\n",
       "    </tr>\n",
       "    <tr>\n",
       "      <th>1</th>\n",
       "      <td>bod</td>\n",
       "      <td>0.068014</td>\n",
       "    </tr>\n",
       "    <tr>\n",
       "      <th>9</th>\n",
       "      <td>nitrate</td>\n",
       "      <td>0.067125</td>\n",
       "    </tr>\n",
       "    <tr>\n",
       "      <th>16</th>\n",
       "      <td>standard_temperature</td>\n",
       "      <td>0.066515</td>\n",
       "    </tr>\n",
       "    <tr>\n",
       "      <th>6</th>\n",
       "      <td>conduct</td>\n",
       "      <td>0.064563</td>\n",
       "    </tr>\n",
       "    <tr>\n",
       "      <th>8</th>\n",
       "      <td>hardness</td>\n",
       "      <td>0.062452</td>\n",
       "    </tr>\n",
       "    <tr>\n",
       "      <th>11</th>\n",
       "      <td>potassium_permanganate</td>\n",
       "      <td>0.060930</td>\n",
       "    </tr>\n",
       "    <tr>\n",
       "      <th>5</th>\n",
       "      <td>oxygen_saturation</td>\n",
       "      <td>0.058901</td>\n",
       "    </tr>\n",
       "    <tr>\n",
       "      <th>2</th>\n",
       "      <td>ammonium</td>\n",
       "      <td>0.057872</td>\n",
       "    </tr>\n",
       "    <tr>\n",
       "      <th>3</th>\n",
       "      <td>silicon_dixoide</td>\n",
       "      <td>0.057788</td>\n",
       "    </tr>\n",
       "    <tr>\n",
       "      <th>14</th>\n",
       "      <td>oxygen</td>\n",
       "      <td>0.054529</td>\n",
       "    </tr>\n",
       "    <tr>\n",
       "      <th>15</th>\n",
       "      <td>standard_ph</td>\n",
       "      <td>0.048020</td>\n",
       "    </tr>\n",
       "    <tr>\n",
       "      <th>7</th>\n",
       "      <td>nitrogen_dioxide</td>\n",
       "      <td>0.047736</td>\n",
       "    </tr>\n",
       "    <tr>\n",
       "      <th>13</th>\n",
       "      <td>phosphate</td>\n",
       "      <td>0.047204</td>\n",
       "    </tr>\n",
       "    <tr>\n",
       "      <th>10</th>\n",
       "      <td>carbon_dioxide</td>\n",
       "      <td>0.019892</td>\n",
       "    </tr>\n",
       "  </tbody>\n",
       "</table>\n",
       "</div>"
      ],
      "text/plain": [
       "                   feature  importance\n",
       "4     potassium_dichromate    0.075670\n",
       "12                chlorine    0.072116\n",
       "0                      ids    0.070673\n",
       "1                      bod    0.068014\n",
       "9                  nitrate    0.067125\n",
       "16    standard_temperature    0.066515\n",
       "6                  conduct    0.064563\n",
       "8                 hardness    0.062452\n",
       "11  potassium_permanganate    0.060930\n",
       "5        oxygen_saturation    0.058901\n",
       "2                 ammonium    0.057872\n",
       "3          silicon_dixoide    0.057788\n",
       "14                  oxygen    0.054529\n",
       "15             standard_ph    0.048020\n",
       "7         nitrogen_dioxide    0.047736\n",
       "13               phosphate    0.047204\n",
       "10          carbon_dioxide    0.019892"
      ]
     },
     "execution_count": 18,
     "metadata": {},
     "output_type": "execute_result"
    }
   ],
   "source": [
    "imps = pd.DataFrame({\n",
    "    'feature' : cols,\n",
    "    'importance' : imp\n",
    "})\n",
    "imps.sort_values(by = 'importance', ascending = False)"
   ]
  },
  {
   "cell_type": "code",
   "execution_count": 25,
   "id": "northern-proposition",
   "metadata": {},
   "outputs": [
    {
     "name": "stdout",
     "output_type": "stream",
     "text": [
      "['potassium_dichromate', 'chlorine', 'ids', 'bod', 'nitrate', 'standard_temperature', 'conduct', 'hardness', 'potassium_permanganate', 'oxygen_saturation', 'ammonium', 'silicon_dixoide']\n"
     ]
    }
   ],
   "source": [
    "feats = imps.sort_values(by = 'importance', ascending = False)[:12].feature.values\n",
    "print(list(feats))"
   ]
  },
  {
   "cell_type": "code",
   "execution_count": null,
   "id": "olympic-christmas",
   "metadata": {},
   "outputs": [],
   "source": []
  }
 ],
 "metadata": {
  "kernelspec": {
   "display_name": "Python 3",
   "language": "python",
   "name": "python3"
  },
  "language_info": {
   "codemirror_mode": {
    "name": "ipython",
    "version": 3
   },
   "file_extension": ".py",
   "mimetype": "text/x-python",
   "name": "python",
   "nbconvert_exporter": "python",
   "pygments_lexer": "ipython3",
   "version": "3.8.5"
  }
 },
 "nbformat": 4,
 "nbformat_minor": 5
}
