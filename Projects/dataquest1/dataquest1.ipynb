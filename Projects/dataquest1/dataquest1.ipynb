{
  "nbformat": 4,
  "nbformat_minor": 0,
  "metadata": {
    "colab": {
      "name": "dataquest.ipynb",
      "provenance": []
    },
    "kernelspec": {
      "name": "python3",
      "display_name": "Python 3"
    }
  },
  "cells": [
    {
      "cell_type": "code",
      "metadata": {
        "id": "rfVQUTLnyZQw"
      },
      "source": [
        "import numpy as np\n",
        "import pandas as pd \n",
        "import matplotlib.pyplot as plt\n",
        "%matplotlib inline\n",
        "import datetime\n",
        "\n",
        "from sklearn.preprocessing import StandardScaler\n",
        "from sklearn.ensemble import StackingClassifier\n",
        "from sklearn.datasets import make_classification\n",
        "from sklearn.model_selection import cross_val_score\n",
        "from sklearn.model_selection import RepeatedStratifiedKFold\n",
        "from sklearn.linear_model import LogisticRegression\n",
        "from sklearn.neighbors import KNeighborsClassifier\n",
        "from sklearn.tree import DecisionTreeClassifier\n",
        "from sklearn.ensemble import RandomForestClassifier\n",
        "from sklearn.svm import SVC\n",
        "from sklearn.naive_bayes import GaussianNB\n",
        "\n",
        "from sklearn.model_selection import train_test_split\n",
        "from sklearn.neighbors import KNeighborsClassifier\n",
        "from sklearn.linear_model import LogisticRegression\n",
        "from sklearn.svm import LinearSVC\n",
        "from sklearn.tree import DecisionTreeClassifier\n",
        "from sklearn.ensemble import RandomForestClassifier, GradientBoostingClassifier\n",
        "from sklearn.preprocessing import MinMaxScaler\n",
        "from xgboost import XGBClassifier\n",
        "\n",
        "from sklearn.metrics import accuracy_score, log_loss\n",
        "from sklearn.neighbors import KNeighborsClassifier\n",
        "from sklearn.svm import SVC, LinearSVC, NuSVC\n",
        "from sklearn.tree import DecisionTreeClassifier\n",
        "from sklearn.ensemble import RandomForestClassifier, AdaBoostClassifier, GradientBoostingClassifier\n",
        "from sklearn.naive_bayes import GaussianNB\n",
        "from xgboost import XGBClassifier\n",
        "import xgboost"
      ],
      "execution_count": 117,
      "outputs": []
    },
    {
      "cell_type": "code",
      "metadata": {
        "colab": {
          "base_uri": "https://localhost:8080/"
        },
        "id": "SwuyPwDoyo7R",
        "outputId": "8b104ec4-429d-4731-c833-301fa3caed4b"
      },
      "source": [
        "def get_data():\n",
        "    train = pd.read_csv('/train.csv')\n",
        "    test = pd.read_csv('/test.csv')\n",
        "    y_train = train['satisfaction']\n",
        "    train.drop('satisfaction', axis = 1, inplace = True)\n",
        "\n",
        "    data = pd.concat([train, test]).reset_index(drop = True)\n",
        "    data = pd.get_dummies(data)\n",
        "    n_train = train.shape[0]\n",
        "    \n",
        "    # print('Missing values before: \\n')\n",
        "    # print(data.isna().sum().sum())\n",
        "    \n",
        "    put = data['Arrival Delay in Minutes'].mean()\n",
        "    data['Arrival Delay in Minutes'] = data['Arrival Delay in Minutes'].fillna(put)\n",
        "\n",
        "    imp_feats = ['Railway service',\n",
        "            'Seat comfort',\n",
        "            'Class_first-class',\n",
        "            'Washroom service',\n",
        "            'Mode of reservation_offline',\n",
        "            'Ticket-collector service',\n",
        "            'Distance Travelled',\n",
        "            'Mode of reservation_online',\n",
        "            'Age',\n",
        "            'Baggage security score',\n",
        "            'id',\n",
        "            'Travel_frequent',\n",
        "            'Class_second-class',\n",
        "            'Cleanliness',\n",
        "            'Compartment safety score',\n",
        "            'Ease of Online booking',\n",
        "            'Travel_non-frequent'\n",
        "            ]\n",
        "    \n",
        "    data = data[imp_feats]\n",
        "\n",
        "    # print('Missing values after: \\n')\n",
        "    # print(data.isna().sum().sum())\n",
        "    \n",
        "    X_train = data[:n_train]\n",
        "    X_test = data[n_train:]\n",
        "    \n",
        "    sc = StandardScaler()\n",
        "    X_train = sc.fit_transform(X_train)\n",
        "    X_test = sc.transform(X_test)\n",
        "   \n",
        "    return (X_train, y_train, X_test)\n",
        "    \n",
        "X_train, y_train, X_test = get_data()\n",
        "print(X_train.shape, y_train.shape, X_test.shape)"
      ],
      "execution_count": 118,
      "outputs": [
        {
          "output_type": "stream",
          "text": [
            "(54931, 17) (54931,) (11834, 17)\n"
          ],
          "name": "stdout"
        }
      ]
    },
    {
      "cell_type": "code",
      "metadata": {
        "colab": {
          "base_uri": "https://localhost:8080/"
        },
        "id": "yIOvb76oyqKp",
        "outputId": "fe1f8d6b-1862-4b53-eea3-0a8c4fcff611"
      },
      "source": [
        "def get_stacking():\n",
        "    level0 = []\n",
        "    level0.append(('cart', DecisionTreeClassifier()))\n",
        "    level0.append(('rfc', RandomForestClassifier()))\n",
        "    level0.append(('xgb', XGBClassifier()))\n",
        "\n",
        "    level1 = RandomForestClassifier()\n",
        "    \n",
        "    model = StackingClassifier(estimators=level0, final_estimator=level1, cv = 3)\n",
        "    return model\n",
        "get_stacking()"
      ],
      "execution_count": 119,
      "outputs": [
        {
          "output_type": "execute_result",
          "data": {
            "text/plain": [
              "StackingClassifier(cv=3,\n",
              "                   estimators=[('cart',\n",
              "                                DecisionTreeClassifier(ccp_alpha=0.0,\n",
              "                                                       class_weight=None,\n",
              "                                                       criterion='gini',\n",
              "                                                       max_depth=None,\n",
              "                                                       max_features=None,\n",
              "                                                       max_leaf_nodes=None,\n",
              "                                                       min_impurity_decrease=0.0,\n",
              "                                                       min_impurity_split=None,\n",
              "                                                       min_samples_leaf=1,\n",
              "                                                       min_samples_split=2,\n",
              "                                                       min_weight_fraction_leaf=0.0,\n",
              "                                                       presort='deprecated',\n",
              "                                                       random_state=None,\n",
              "                                                       splitter='best')),\n",
              "                               ('rfc'...\n",
              "                                                          criterion='gini',\n",
              "                                                          max_depth=None,\n",
              "                                                          max_features='auto',\n",
              "                                                          max_leaf_nodes=None,\n",
              "                                                          max_samples=None,\n",
              "                                                          min_impurity_decrease=0.0,\n",
              "                                                          min_impurity_split=None,\n",
              "                                                          min_samples_leaf=1,\n",
              "                                                          min_samples_split=2,\n",
              "                                                          min_weight_fraction_leaf=0.0,\n",
              "                                                          n_estimators=100,\n",
              "                                                          n_jobs=None,\n",
              "                                                          oob_score=False,\n",
              "                                                          random_state=None,\n",
              "                                                          verbose=0,\n",
              "                                                          warm_start=False),\n",
              "                   n_jobs=None, passthrough=False, stack_method='auto',\n",
              "                   verbose=0)"
            ]
          },
          "metadata": {
            "tags": []
          },
          "execution_count": 119
        }
      ]
    },
    {
      "cell_type": "code",
      "metadata": {
        "id": "1EROvRSg62R0"
      },
      "source": [
        ""
      ],
      "execution_count": 119,
      "outputs": []
    },
    {
      "cell_type": "code",
      "metadata": {
        "id": "ULoonKcs62-w"
      },
      "source": [
        ""
      ],
      "execution_count": 119,
      "outputs": []
    },
    {
      "cell_type": "code",
      "metadata": {
        "id": "Bqx0u7fyzlkg"
      },
      "source": [
        "def sub(name, score, preds):\n",
        "    out = pd.DataFrame(\n",
        "        {\n",
        "            'satisfaction' : preds\n",
        "        }\n",
        "    )\n",
        "    name = str(score) + '__' + name + '__new.csv'\n",
        "    out.to_csv(name, index = False)"
      ],
      "execution_count": 120,
      "outputs": []
    },
    {
      "cell_type": "code",
      "metadata": {
        "colab": {
          "base_uri": "https://localhost:8080/"
        },
        "id": "ht8Q_VFSzou8",
        "outputId": "82b0e572-de5a-45e1-e259-d5f761d8c893"
      },
      "source": [
        "def get_models():\n",
        "    models = {\n",
        "        # 'lr' : LogisticRegression(),\n",
        "        # 'knn' : KNeighborsClassifier(),\n",
        "        'cart' : DecisionTreeClassifier(),\n",
        "        'rfc' : RandomForestClassifier(),\n",
        "        'stacking' : get_stacking(),\n",
        "        'XGB': XGBClassifier(),\n",
        "        # 'AdaBoost': AdaBoostClassifier(),\n",
        "    }\n",
        "    return models\n",
        "\n",
        "models = get_models()\n",
        "print(models)"
      ],
      "execution_count": 121,
      "outputs": [
        {
          "output_type": "stream",
          "text": [
            "{'cart': DecisionTreeClassifier(ccp_alpha=0.0, class_weight=None, criterion='gini',\n",
            "                       max_depth=None, max_features=None, max_leaf_nodes=None,\n",
            "                       min_impurity_decrease=0.0, min_impurity_split=None,\n",
            "                       min_samples_leaf=1, min_samples_split=2,\n",
            "                       min_weight_fraction_leaf=0.0, presort='deprecated',\n",
            "                       random_state=None, splitter='best'), 'rfc': RandomForestClassifier(bootstrap=True, ccp_alpha=0.0, class_weight=None,\n",
            "                       criterion='gini', max_depth=None, max_features='auto',\n",
            "                       max_leaf_nodes=None, max_samples=None,\n",
            "                       min_impurity_decrease=0.0, min_impurity_split=None,\n",
            "                       min_samples_leaf=1, min_samples_split=2,\n",
            "                       min_weight_fraction_leaf=0.0, n_estimators=100,\n",
            "                       n_jobs=None, oob_score=False, random_state=None,\n",
            "                       verbose=0, warm_start=False), 'stacking': StackingClassifier(cv=3,\n",
            "                   estimators=[('cart',\n",
            "                                DecisionTreeClassifier(ccp_alpha=0.0,\n",
            "                                                       class_weight=None,\n",
            "                                                       criterion='gini',\n",
            "                                                       max_depth=None,\n",
            "                                                       max_features=None,\n",
            "                                                       max_leaf_nodes=None,\n",
            "                                                       min_impurity_decrease=0.0,\n",
            "                                                       min_impurity_split=None,\n",
            "                                                       min_samples_leaf=1,\n",
            "                                                       min_samples_split=2,\n",
            "                                                       min_weight_fraction_leaf=0.0,\n",
            "                                                       presort='deprecated',\n",
            "                                                       random_state=None,\n",
            "                                                       splitter='best')),\n",
            "                               ('rfc'...\n",
            "                                                          criterion='gini',\n",
            "                                                          max_depth=None,\n",
            "                                                          max_features='auto',\n",
            "                                                          max_leaf_nodes=None,\n",
            "                                                          max_samples=None,\n",
            "                                                          min_impurity_decrease=0.0,\n",
            "                                                          min_impurity_split=None,\n",
            "                                                          min_samples_leaf=1,\n",
            "                                                          min_samples_split=2,\n",
            "                                                          min_weight_fraction_leaf=0.0,\n",
            "                                                          n_estimators=100,\n",
            "                                                          n_jobs=None,\n",
            "                                                          oob_score=False,\n",
            "                                                          random_state=None,\n",
            "                                                          verbose=0,\n",
            "                                                          warm_start=False),\n",
            "                   n_jobs=None, passthrough=False, stack_method='auto',\n",
            "                   verbose=0), 'XGB': XGBClassifier(base_score=0.5, booster='gbtree', colsample_bylevel=1,\n",
            "              colsample_bynode=1, colsample_bytree=1, gamma=0,\n",
            "              learning_rate=0.1, max_delta_step=0, max_depth=3,\n",
            "              min_child_weight=1, missing=None, n_estimators=100, n_jobs=1,\n",
            "              nthread=None, objective='binary:logistic', random_state=0,\n",
            "              reg_alpha=0, reg_lambda=1, scale_pos_weight=1, seed=None,\n",
            "              silent=None, subsample=1, verbosity=1)}\n"
          ],
          "name": "stdout"
        }
      ]
    },
    {
      "cell_type": "code",
      "metadata": {
        "id": "BoJG_JDbzqh8"
      },
      "source": [
        "X_train, y_train, X_test = get_data()\n",
        "def evaluate(model):\n",
        "    cv = RepeatedStratifiedKFold(n_splits=3, n_repeats=3, random_state=1)\n",
        "\n",
        "    scores = cross_val_score(model, X_train, y_train, scoring='accuracy', cv = cv, n_jobs=-1, error_score='raise')\n",
        "    model.fit(X_train, y_train)\n",
        "    preds = model.predict(X_test)\n",
        "\n",
        "    return (np.mean(scores), preds)"
      ],
      "execution_count": 122,
      "outputs": []
    },
    {
      "cell_type": "code",
      "metadata": {
        "colab": {
          "base_uri": "https://localhost:8080/"
        },
        "id": "hs9jO1yNzsaA",
        "outputId": "030add9b-2c09-4d01-f8a8-5092b8ae21fb"
      },
      "source": [
        "ans = []\n",
        "for name, model in models.items():\n",
        "  print(name, '...')\n",
        "  score, preds = evaluate(model)\n",
        "  ans.append((name, score, preds))\n",
        "  print(score)"
      ],
      "execution_count": 123,
      "outputs": [
        {
          "output_type": "stream",
          "text": [
            "cart ...\n",
            "0.9424854206240594\n",
            "rfc ...\n",
            "0.9639001626558178\n",
            "stacking ...\n",
            "0.9495306350533714\n",
            "XGB ...\n",
            "0.9544033806019772\n"
          ],
          "name": "stdout"
        }
      ]
    },
    {
      "cell_type": "code",
      "metadata": {
        "id": "40bdxmq225NF"
      },
      "source": [
        "# download all predictions\n",
        "for a in ans:\n",
        "  sub(a[0], a[1], a[2])"
      ],
      "execution_count": 124,
      "outputs": []
    },
    {
      "cell_type": "code",
      "metadata": {
        "colab": {
          "base_uri": "https://localhost:8080/",
          "height": 35
        },
        "id": "bN7SQICI3Myb",
        "outputId": "6709d4bb-27e2-45cf-b7e5-062f58687928"
      },
      "source": [
        "\"\"\"\n",
        "cart ...\n",
        "0.942382268635149\n",
        "rfc ...\n",
        "0.9638576906467617\n",
        "stacking ...\n",
        "0.9642399897644043\n",
        "XGB ...\n",
        "0.9541910026609082\n",
        "AdaBoost ...\n",
        "0.9384743357604365\n",
        "\"\"\""
      ],
      "execution_count": 125,
      "outputs": [
        {
          "output_type": "execute_result",
          "data": {
            "application/vnd.google.colaboratory.intrinsic+json": {
              "type": "string"
            },
            "text/plain": [
              "'\\ncart ...\\n0.942382268635149\\nrfc ...\\n0.9638576906467617\\nstacking ...\\n0.9642399897644043\\nXGB ...\\n0.9541910026609082\\nAdaBoost ...\\n0.9384743357604365\\n'"
            ]
          },
          "metadata": {
            "tags": []
          },
          "execution_count": 125
        }
      ]
    },
    {
      "cell_type": "code",
      "metadata": {
        "id": "raWm9lvW9lyl"
      },
      "source": [
        ""
      ],
      "execution_count": 125,
      "outputs": []
    }
  ]
}