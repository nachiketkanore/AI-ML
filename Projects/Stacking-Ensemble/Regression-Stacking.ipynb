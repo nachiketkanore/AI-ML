{
 "cells": [
  {
   "cell_type": "code",
   "execution_count": 3,
   "id": "continuing-highland",
   "metadata": {},
   "outputs": [],
   "source": [
    "import numpy as np\n",
    "import pandas as pd\n",
    "import matplotlib.pyplot as plt\n",
    "%matplotlib inline\n",
    "\n",
    "from sklearn.datasets import make_regression\n",
    "from sklearn.model_selection import cross_val_score\n",
    "from sklearn.model_selection import RepeatedKFold\n",
    "from sklearn.linear_model import LinearRegression\n",
    "from sklearn.neighbors import KNeighborsRegressor\n",
    "from sklearn.tree import DecisionTreeRegressor\n",
    "from sklearn.svm import SVR\n"
   ]
  },
  {
   "cell_type": "code",
   "execution_count": 4,
   "id": "distant-tobacco",
   "metadata": {},
   "outputs": [],
   "source": [
    "def get_dataset():\n",
    "    X, y = make_regression(n_samples=1000, n_features=20, n_informative=15, random_state=1)\n",
    "    return X, y"
   ]
  },
  {
   "cell_type": "code",
   "execution_count": 9,
   "id": "stock-outdoors",
   "metadata": {},
   "outputs": [],
   "source": [
    "def get_models():\n",
    "    models = {\n",
    "        'knn' : KNeighborsRegressor(),\n",
    "        'cart' : DecisionTreeRegressor(),\n",
    "        'svm' : SVR(),\n",
    "#         'linReg' : LinearRegression()\n",
    "    }\n",
    "    return models"
   ]
  },
  {
   "cell_type": "code",
   "execution_count": 10,
   "id": "private-review",
   "metadata": {},
   "outputs": [],
   "source": [
    "def evaluate_model(model, X, y):\n",
    "    cv = RepeatedKFold(n_splits=10, n_repeats=3, random_state=1)\n",
    "    scores = cross_val_score(model, X, y, scoring='neg_mean_absolute_error', cv = cv, error_score = 'raise')\n",
    "    return scores"
   ]
  },
  {
   "cell_type": "code",
   "execution_count": 11,
   "id": "inside-patent",
   "metadata": {},
   "outputs": [
    {
     "name": "stdout",
     "output_type": "stream",
     "text": [
      "> knn -100.975 (7.631)\n",
      "> cart -147.355 (10.456)\n",
      "> svm -162.303 (13.719)\n"
     ]
    }
   ],
   "source": [
    "X, y = get_dataset()\n",
    "models = get_models()\n",
    "\n",
    "results, names = [], []\n",
    "\n",
    "for name, model in models.items():\n",
    "    scores = evaluate_model(model, X, y)\n",
    "    names.append(name)\n",
    "    print('> %s %.3f (%.3f)' % (name, np.mean(scores), np.std(scores)))"
   ]
  },
  {
   "cell_type": "code",
   "execution_count": 12,
   "id": "coastal-password",
   "metadata": {},
   "outputs": [],
   "source": [
    "from sklearn.ensemble import StackingRegressor"
   ]
  },
  {
   "cell_type": "code",
   "execution_count": 13,
   "id": "southwest-individual",
   "metadata": {},
   "outputs": [],
   "source": [
    "def get_stacking():\n",
    "    level0 = [\n",
    "        ('knn', KNeighborsRegressor()),\n",
    "        ('cart', DecisionTreeRegressor()),\n",
    "        ('svm', SVR())\n",
    "    ]\n",
    "    level1 = LinearRegression()\n",
    "    model = StackingRegressor(estimators=level0, final_estimator=level1, cv = 5)\n",
    "    return model"
   ]
  },
  {
   "cell_type": "code",
   "execution_count": 14,
   "id": "limited-alert",
   "metadata": {},
   "outputs": [],
   "source": [
    "def get_models():\n",
    "    models = {\n",
    "        'knn' : KNeighborsRegressor(),\n",
    "        'cart' : DecisionTreeRegressor(),\n",
    "        'svm' : SVR(),\n",
    "        'stacking' : get_stacking()\n",
    "    }\n",
    "    return models"
   ]
  },
  {
   "cell_type": "code",
   "execution_count": 15,
   "id": "collective-rabbit",
   "metadata": {},
   "outputs": [],
   "source": [
    "X, y = get_dataset()\n",
    "models = get_models()"
   ]
  },
  {
   "cell_type": "code",
   "execution_count": 17,
   "id": "identical-legislation",
   "metadata": {},
   "outputs": [
    {
     "name": "stdout",
     "output_type": "stream",
     "text": [
      "> knn -100.975 (7.631)\n",
      "> cart -145.449 (11.087)\n",
      "> svm -162.303 (13.719)\n",
      "> stacking -56.948 (4.000)\n"
     ]
    }
   ],
   "source": [
    "results, names = [], []\n",
    "\n",
    "for name, model in models.items():\n",
    "    scores = evaluate_model(model, X, y)\n",
    "    results.append(scores)\n",
    "    names.append(name)\n",
    "    print('> %s %.3f (%.3f)' % (name, np.mean(scores), np.std(scores)))"
   ]
  },
  {
   "cell_type": "code",
   "execution_count": 18,
   "id": "particular-tattoo",
   "metadata": {},
   "outputs": [
    {
     "name": "stdout",
     "output_type": "stream",
     "text": [
      "[array([ 1.83220384,  0.30410582,  0.19446483, -2.83267053, -1.21557477,\n",
      "        0.28036087, -0.13750112, -1.16920582, -1.07760939, -0.13876609,\n",
      "       -1.4729998 ,  0.29150096,  0.91817733,  0.25947818,  0.76746053,\n",
      "       -0.20400758, -1.48500999, -0.67795925, -0.86386545,  1.19473584])]\n",
      "[-107.38454657]\n"
     ]
    }
   ],
   "source": [
    "X, y = get_dataset()\n",
    "model = get_stacking()\n",
    "model.fit(X, y)\n",
    "data = [np.random.randn(20)]\n",
    "print(data)\n",
    "print(model.predict(data))"
   ]
  },
  {
   "cell_type": "code",
   "execution_count": null,
   "id": "pretty-egypt",
   "metadata": {},
   "outputs": [],
   "source": []
  }
 ],
 "metadata": {
  "kernelspec": {
   "display_name": "Python 3",
   "language": "python",
   "name": "python3"
  },
  "language_info": {
   "codemirror_mode": {
    "name": "ipython",
    "version": 3
   },
   "file_extension": ".py",
   "mimetype": "text/x-python",
   "name": "python",
   "nbconvert_exporter": "python",
   "pygments_lexer": "ipython3",
   "version": "3.8.5"
  }
 },
 "nbformat": 4,
 "nbformat_minor": 5
}
