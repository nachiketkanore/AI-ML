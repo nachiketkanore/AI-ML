{
 "cells": [
  {
   "cell_type": "code",
   "execution_count": 39,
   "id": "latin-great",
   "metadata": {},
   "outputs": [],
   "source": [
    "import numpy as np\n",
    "import pandas as pd \n",
    "import matplotlib.pyplot as plt\n",
    "%matplotlib inline\n",
    "\n",
    "from sklearn.datasets import make_classification\n",
    "from sklearn.model_selection import cross_val_score\n",
    "from sklearn.model_selection import RepeatedStratifiedKFold\n",
    "from sklearn.linear_model import LogisticRegression\n",
    "from sklearn.neighbors import KNeighborsClassifier\n",
    "from sklearn.tree import DecisionTreeClassifier\n",
    "from sklearn.svm import SVC\n",
    "from sklearn.naive_bayes import GaussianNB\n"
   ]
  },
  {
   "cell_type": "code",
   "execution_count": 6,
   "id": "boring-musician",
   "metadata": {},
   "outputs": [],
   "source": [
    "def get_dataset():\n",
    "    X, y = make_classification(n_samples=1000, n_features=20, n_informative=15, n_redundant=5, random_state=1)\n",
    "    return X, y"
   ]
  },
  {
   "cell_type": "code",
   "execution_count": 10,
   "id": "animated-michigan",
   "metadata": {},
   "outputs": [],
   "source": [
    "X, y = get_dataset()\n",
    "X = pd.DataFrame(X)\n",
    "y = pd.DataFrame(y)"
   ]
  },
  {
   "cell_type": "code",
   "execution_count": 11,
   "id": "together-alcohol",
   "metadata": {},
   "outputs": [
    {
     "data": {
      "text/html": [
       "<div>\n",
       "<style scoped>\n",
       "    .dataframe tbody tr th:only-of-type {\n",
       "        vertical-align: middle;\n",
       "    }\n",
       "\n",
       "    .dataframe tbody tr th {\n",
       "        vertical-align: top;\n",
       "    }\n",
       "\n",
       "    .dataframe thead th {\n",
       "        text-align: right;\n",
       "    }\n",
       "</style>\n",
       "<table border=\"1\" class=\"dataframe\">\n",
       "  <thead>\n",
       "    <tr style=\"text-align: right;\">\n",
       "      <th></th>\n",
       "      <th>0</th>\n",
       "      <th>1</th>\n",
       "      <th>2</th>\n",
       "      <th>3</th>\n",
       "      <th>4</th>\n",
       "      <th>5</th>\n",
       "      <th>6</th>\n",
       "      <th>7</th>\n",
       "      <th>8</th>\n",
       "      <th>9</th>\n",
       "      <th>10</th>\n",
       "      <th>11</th>\n",
       "      <th>12</th>\n",
       "      <th>13</th>\n",
       "      <th>14</th>\n",
       "      <th>15</th>\n",
       "      <th>16</th>\n",
       "      <th>17</th>\n",
       "      <th>18</th>\n",
       "      <th>19</th>\n",
       "    </tr>\n",
       "  </thead>\n",
       "  <tbody>\n",
       "    <tr>\n",
       "      <th>0</th>\n",
       "      <td>2.474755</td>\n",
       "      <td>0.401655</td>\n",
       "      <td>1.680818</td>\n",
       "      <td>2.889407</td>\n",
       "      <td>0.917045</td>\n",
       "      <td>-3.079506</td>\n",
       "      <td>4.399612</td>\n",
       "      <td>0.724643</td>\n",
       "      <td>-4.865636</td>\n",
       "      <td>-6.063381</td>\n",
       "      <td>-1.222099</td>\n",
       "      <td>-0.469962</td>\n",
       "      <td>1.012227</td>\n",
       "      <td>-0.689936</td>\n",
       "      <td>-0.530006</td>\n",
       "      <td>6.869668</td>\n",
       "      <td>-3.272111</td>\n",
       "      <td>-6.590441</td>\n",
       "      <td>-2.212906</td>\n",
       "      <td>-3.139579</td>\n",
       "    </tr>\n",
       "    <tr>\n",
       "      <th>1</th>\n",
       "      <td>0.848025</td>\n",
       "      <td>2.818419</td>\n",
       "      <td>-2.760087</td>\n",
       "      <td>-3.315206</td>\n",
       "      <td>0.149164</td>\n",
       "      <td>-1.810581</td>\n",
       "      <td>3.027528</td>\n",
       "      <td>0.111998</td>\n",
       "      <td>-0.728644</td>\n",
       "      <td>-9.393979</td>\n",
       "      <td>-2.374929</td>\n",
       "      <td>2.776886</td>\n",
       "      <td>3.357332</td>\n",
       "      <td>4.769087</td>\n",
       "      <td>-3.028062</td>\n",
       "      <td>11.641721</td>\n",
       "      <td>-3.442987</td>\n",
       "      <td>3.008445</td>\n",
       "      <td>0.786620</td>\n",
       "      <td>-1.276816</td>\n",
       "    </tr>\n",
       "    <tr>\n",
       "      <th>2</th>\n",
       "      <td>-1.900412</td>\n",
       "      <td>-0.569018</td>\n",
       "      <td>-1.762202</td>\n",
       "      <td>-0.583895</td>\n",
       "      <td>0.359125</td>\n",
       "      <td>-1.251286</td>\n",
       "      <td>-0.856250</td>\n",
       "      <td>1.546021</td>\n",
       "      <td>4.521895</td>\n",
       "      <td>-0.037934</td>\n",
       "      <td>1.227937</td>\n",
       "      <td>1.208501</td>\n",
       "      <td>1.890260</td>\n",
       "      <td>-2.132713</td>\n",
       "      <td>-1.752718</td>\n",
       "      <td>1.183493</td>\n",
       "      <td>9.564916</td>\n",
       "      <td>3.373364</td>\n",
       "      <td>-2.286137</td>\n",
       "      <td>1.903450</td>\n",
       "    </tr>\n",
       "    <tr>\n",
       "      <th>3</th>\n",
       "      <td>-1.012404</td>\n",
       "      <td>-1.482081</td>\n",
       "      <td>-0.968549</td>\n",
       "      <td>2.103057</td>\n",
       "      <td>-0.672274</td>\n",
       "      <td>-1.254941</td>\n",
       "      <td>1.951717</td>\n",
       "      <td>-1.463761</td>\n",
       "      <td>-0.489665</td>\n",
       "      <td>3.993727</td>\n",
       "      <td>-2.458270</td>\n",
       "      <td>0.843014</td>\n",
       "      <td>-0.113367</td>\n",
       "      <td>0.924460</td>\n",
       "      <td>-1.997302</td>\n",
       "      <td>8.844432</td>\n",
       "      <td>0.361584</td>\n",
       "      <td>-1.362227</td>\n",
       "      <td>0.123589</td>\n",
       "      <td>-2.264182</td>\n",
       "    </tr>\n",
       "    <tr>\n",
       "      <th>4</th>\n",
       "      <td>-0.189057</td>\n",
       "      <td>-3.512168</td>\n",
       "      <td>1.848276</td>\n",
       "      <td>-0.379249</td>\n",
       "      <td>0.359913</td>\n",
       "      <td>-2.542865</td>\n",
       "      <td>2.840213</td>\n",
       "      <td>-2.299910</td>\n",
       "      <td>0.016949</td>\n",
       "      <td>1.894389</td>\n",
       "      <td>1.776891</td>\n",
       "      <td>-1.883850</td>\n",
       "      <td>1.690899</td>\n",
       "      <td>0.024902</td>\n",
       "      <td>1.813630</td>\n",
       "      <td>5.517626</td>\n",
       "      <td>-5.424820</td>\n",
       "      <td>-3.775083</td>\n",
       "      <td>3.095232</td>\n",
       "      <td>-0.767354</td>\n",
       "    </tr>\n",
       "  </tbody>\n",
       "</table>\n",
       "</div>"
      ],
      "text/plain": [
       "         0         1         2         3         4         5         6   \\\n",
       "0  2.474755  0.401655  1.680818  2.889407  0.917045 -3.079506  4.399612   \n",
       "1  0.848025  2.818419 -2.760087 -3.315206  0.149164 -1.810581  3.027528   \n",
       "2 -1.900412 -0.569018 -1.762202 -0.583895  0.359125 -1.251286 -0.856250   \n",
       "3 -1.012404 -1.482081 -0.968549  2.103057 -0.672274 -1.254941  1.951717   \n",
       "4 -0.189057 -3.512168  1.848276 -0.379249  0.359913 -2.542865  2.840213   \n",
       "\n",
       "         7         8         9         10        11        12        13  \\\n",
       "0  0.724643 -4.865636 -6.063381 -1.222099 -0.469962  1.012227 -0.689936   \n",
       "1  0.111998 -0.728644 -9.393979 -2.374929  2.776886  3.357332  4.769087   \n",
       "2  1.546021  4.521895 -0.037934  1.227937  1.208501  1.890260 -2.132713   \n",
       "3 -1.463761 -0.489665  3.993727 -2.458270  0.843014 -0.113367  0.924460   \n",
       "4 -2.299910  0.016949  1.894389  1.776891 -1.883850  1.690899  0.024902   \n",
       "\n",
       "         14         15        16        17        18        19  \n",
       "0 -0.530006   6.869668 -3.272111 -6.590441 -2.212906 -3.139579  \n",
       "1 -3.028062  11.641721 -3.442987  3.008445  0.786620 -1.276816  \n",
       "2 -1.752718   1.183493  9.564916  3.373364 -2.286137  1.903450  \n",
       "3 -1.997302   8.844432  0.361584 -1.362227  0.123589 -2.264182  \n",
       "4  1.813630   5.517626 -5.424820 -3.775083  3.095232 -0.767354  "
      ]
     },
     "execution_count": 11,
     "metadata": {},
     "output_type": "execute_result"
    }
   ],
   "source": [
    "X.head()"
   ]
  },
  {
   "cell_type": "code",
   "execution_count": 13,
   "id": "medieval-entrepreneur",
   "metadata": {},
   "outputs": [
    {
     "data": {
      "text/html": [
       "<div>\n",
       "<style scoped>\n",
       "    .dataframe tbody tr th:only-of-type {\n",
       "        vertical-align: middle;\n",
       "    }\n",
       "\n",
       "    .dataframe tbody tr th {\n",
       "        vertical-align: top;\n",
       "    }\n",
       "\n",
       "    .dataframe thead th {\n",
       "        text-align: right;\n",
       "    }\n",
       "</style>\n",
       "<table border=\"1\" class=\"dataframe\">\n",
       "  <thead>\n",
       "    <tr style=\"text-align: right;\">\n",
       "      <th></th>\n",
       "      <th>0</th>\n",
       "    </tr>\n",
       "  </thead>\n",
       "  <tbody>\n",
       "    <tr>\n",
       "      <th>995</th>\n",
       "      <td>1</td>\n",
       "    </tr>\n",
       "    <tr>\n",
       "      <th>996</th>\n",
       "      <td>1</td>\n",
       "    </tr>\n",
       "    <tr>\n",
       "      <th>997</th>\n",
       "      <td>0</td>\n",
       "    </tr>\n",
       "    <tr>\n",
       "      <th>998</th>\n",
       "      <td>0</td>\n",
       "    </tr>\n",
       "    <tr>\n",
       "      <th>999</th>\n",
       "      <td>1</td>\n",
       "    </tr>\n",
       "  </tbody>\n",
       "</table>\n",
       "</div>"
      ],
      "text/plain": [
       "     0\n",
       "995  1\n",
       "996  1\n",
       "997  0\n",
       "998  0\n",
       "999  1"
      ]
     },
     "execution_count": 13,
     "metadata": {},
     "output_type": "execute_result"
    }
   ],
   "source": [
    "y.tail()"
   ]
  },
  {
   "cell_type": "code",
   "execution_count": 15,
   "id": "rental-subscriber",
   "metadata": {},
   "outputs": [],
   "source": [
    "def get_models():\n",
    "    models = {\n",
    "        'lr' : LogisticRegression(),\n",
    "        'knn' : KNeighborsClassifier(),\n",
    "        'cart' : DecisionTreeClassifier(),\n",
    "        'svm' : SVC(),\n",
    "        'bayes' : GaussianNB()\n",
    "    }\n",
    "    return models"
   ]
  },
  {
   "cell_type": "code",
   "execution_count": 25,
   "id": "secure-yukon",
   "metadata": {},
   "outputs": [],
   "source": [
    "def evaluate_model(model, X, y):\n",
    "    cv = RepeatedStratifiedKFold(n_splits=10, n_repeats=3, random_state=1)\n",
    "    scores = cross_val_score(model, X, y, scoring='accuracy', cv = cv, n_jobs=-1, error_score='raise')\n",
    "    return scores"
   ]
  },
  {
   "cell_type": "code",
   "execution_count": 26,
   "id": "broke-spectacular",
   "metadata": {},
   "outputs": [],
   "source": [
    "X, y = get_dataset()"
   ]
  },
  {
   "cell_type": "code",
   "execution_count": 27,
   "id": "hungry-domain",
   "metadata": {},
   "outputs": [],
   "source": [
    "models = get_models()"
   ]
  },
  {
   "cell_type": "code",
   "execution_count": 28,
   "id": "angry-generic",
   "metadata": {},
   "outputs": [],
   "source": [
    "results, names = [], []"
   ]
  },
  {
   "cell_type": "code",
   "execution_count": 35,
   "id": "nasty-springfield",
   "metadata": {},
   "outputs": [
    {
     "name": "stdout",
     "output_type": "stream",
     "text": [
      ">lr 0.866 (0.029)\n",
      ">knn 0.931 (0.025)\n",
      ">cart 0.827 (0.051)\n",
      ">svm 0.957 (0.020)\n",
      ">bayes 0.833 (0.031)\n"
     ]
    }
   ],
   "source": [
    "for name, model in models.items():\n",
    "    scores = evaluate_model(model, X, y)\n",
    "    results.append(scores)\n",
    "    names.append(name)\n",
    "    print('>%s %.3f (%.3f)' % (name, np.mean(scores), np.std(scores)))"
   ]
  },
  {
   "cell_type": "code",
   "execution_count": 40,
   "id": "manufactured-locking",
   "metadata": {},
   "outputs": [
    {
     "data": {
      "image/png": "[encoded data removed]",
      "text/plain": [
       "<Figure size 432x288 with 1 Axes>"
      ]
     },
     "metadata": {
      "needs_background": "light"
     },
     "output_type": "display_data"
    }
   ],
   "source": [
    "plt.boxplot(results, labels = names, showmeans=True)\n",
    "plt.show()"
   ]
  },
  {
   "cell_type": "code",
   "execution_count": 41,
   "id": "secondary-peoples",
   "metadata": {},
   "outputs": [],
   "source": [
    "from sklearn.ensemble import StackingClassifier"
   ]
  },
  {
   "cell_type": "code",
   "execution_count": 42,
   "id": "valued-cooper",
   "metadata": {},
   "outputs": [],
   "source": [
    "def get_stacking():\n",
    "    level0 = []\n",
    "    level0.append(('lr', LogisticRegression()))\n",
    "    level0.append(('knn', KNeighborsClassifier()))\n",
    "    level0.append(('cart', DecisionTreeClassifier()))\n",
    "    level0.append(('svm', SVC()))\n",
    "    level0.append(('bayes', GaussianNB()))\n",
    "    \n",
    "    level1 = LogisticRegression()\n",
    "    \n",
    "    model = StackingClassifier(estimators=level0, final_estimator=level1, cv = 5)\n",
    "    return model\n",
    "    "
   ]
  },
  {
   "cell_type": "code",
   "execution_count": 44,
   "id": "varying-zambia",
   "metadata": {},
   "outputs": [],
   "source": [
    "def get_models():\n",
    "    models = dict()\n",
    "    models['lr'] = LogisticRegression()\n",
    "    models['knn'] = KNeighborsClassifier()\n",
    "    models['cart'] = DecisionTreeClassifier()\n",
    "    models['svm'] = SVC()\n",
    "    models['bayes'] = GaussianNB()\n",
    "    models['stacking'] = get_stacking()\n",
    "    return models"
   ]
  },
  {
   "cell_type": "code",
   "execution_count": 45,
   "id": "dated-novel",
   "metadata": {},
   "outputs": [],
   "source": [
    "X, y = get_dataset()"
   ]
  },
  {
   "cell_type": "code",
   "execution_count": 46,
   "id": "proved-publisher",
   "metadata": {},
   "outputs": [],
   "source": [
    "models = get_models()"
   ]
  },
  {
   "cell_type": "code",
   "execution_count": 47,
   "id": "organizational-jurisdiction",
   "metadata": {},
   "outputs": [],
   "source": [
    "results, names = [], []"
   ]
  },
  {
   "cell_type": "code",
   "execution_count": 48,
   "id": "timely-speed",
   "metadata": {},
   "outputs": [
    {
     "name": "stdout",
     "output_type": "stream",
     "text": [
      "> lr 0.866 (0.029)\n",
      "> knn 0.931 (0.025)\n",
      "> cart 0.827 (0.042)\n",
      "> svm 0.957 (0.020)\n",
      "> bayes 0.833 (0.031)\n",
      "> stacking 0.964 (0.020)\n"
     ]
    }
   ],
   "source": [
    "for name, model in models.items():\n",
    "    scores = evaluate_model(model, X, y)\n",
    "    results.append(scores)\n",
    "    names.append(name)\n",
    "    print('> %s %.3f (%.3f)' % (name, np.mean(scores), np.std(scores)))"
   ]
  },
  {
   "cell_type": "code",
   "execution_count": 50,
   "id": "nuclear-luther",
   "metadata": {},
   "outputs": [
    {
     "data": {
      "image/png": "[encoded data removed]",
      "text/plain": [
       "<Figure size 432x288 with 1 Axes>"
      ]
     },
     "metadata": {
      "needs_background": "light"
     },
     "output_type": "display_data"
    }
   ],
   "source": [
    "plt.boxplot(results, labels=names, showmeans=True)\n",
    "plt.show()"
   ]
  },
  {
   "cell_type": "code",
   "execution_count": 51,
   "id": "ethical-karaoke",
   "metadata": {},
   "outputs": [],
   "source": [
    "# custom model with predictions\n",
    "def get_stacked_model(X, y):\n",
    "    level0 = [\n",
    "        ('lr', LogisticRegression()),\n",
    "        ('knn', KNeighborsClassifier()),\n",
    "        ('cart', DecisionTreeClassifier()),\n",
    "        ('svm', SVC()),\n",
    "        ('bayes', GaussianNB())\n",
    "    ]\n",
    "    level1 = LogisticRegression()\n",
    "    model = StackingClassifier(estimators=level0, final_estimator=level1, cv = 5)\n",
    "    model.fit(X, y)\n",
    "    return model"
   ]
  },
  {
   "cell_type": "code",
   "execution_count": 52,
   "id": "agreed-colors",
   "metadata": {},
   "outputs": [],
   "source": [
    "X, y = get_dataset()\n",
    "model = get_stacked_model(X, y)"
   ]
  },
  {
   "cell_type": "code",
   "execution_count": 53,
   "id": "raised-petersburg",
   "metadata": {},
   "outputs": [
    {
     "data": {
      "text/plain": [
       "(1000, 20)"
      ]
     },
     "execution_count": 53,
     "metadata": {},
     "output_type": "execute_result"
    }
   ],
   "source": [
    "X.shape"
   ]
  },
  {
   "cell_type": "code",
   "execution_count": 57,
   "id": "underlying-intellectual",
   "metadata": {},
   "outputs": [],
   "source": [
    "vals = [np.random.randn(20)]"
   ]
  },
  {
   "cell_type": "code",
   "execution_count": 59,
   "id": "white-bryan",
   "metadata": {},
   "outputs": [],
   "source": [
    "yhat = model.predict(vals)"
   ]
  },
  {
   "cell_type": "code",
   "execution_count": 60,
   "id": "copyrighted-hormone",
   "metadata": {},
   "outputs": [
    {
     "name": "stdout",
     "output_type": "stream",
     "text": [
      "[1]\n"
     ]
    }
   ],
   "source": [
    "print(yhat)"
   ]
  },
  {
   "cell_type": "code",
   "execution_count": 66,
   "id": "capable-plastic",
   "metadata": {},
   "outputs": [],
   "source": [
    "def try_different_input(model):\n",
    "    for i in range(30):\n",
    "        X = [np.random.randn(20)]\n",
    "        yhat = model.predict(X)\n",
    "        print(yhat)"
   ]
  },
  {
   "cell_type": "code",
   "execution_count": 67,
   "id": "behavioral-antigua",
   "metadata": {},
   "outputs": [
    {
     "name": "stdout",
     "output_type": "stream",
     "text": [
      "[0]\n",
      "[1]\n",
      "[0]\n",
      "[0]\n",
      "[1]\n",
      "[0]\n",
      "[1]\n",
      "[0]\n",
      "[1]\n",
      "[0]\n",
      "[0]\n",
      "[1]\n",
      "[0]\n",
      "[1]\n",
      "[1]\n",
      "[0]\n",
      "[0]\n",
      "[1]\n",
      "[0]\n",
      "[1]\n",
      "[1]\n",
      "[1]\n",
      "[0]\n",
      "[1]\n",
      "[0]\n",
      "[1]\n",
      "[0]\n",
      "[0]\n",
      "[0]\n",
      "[0]\n"
     ]
    }
   ],
   "source": [
    "try_different_input(model)"
   ]
  },
  {
   "cell_type": "code",
   "execution_count": null,
   "id": "binary-crossing",
   "metadata": {},
   "outputs": [],
   "source": []
  }
 ],
 "metadata": {
  "kernelspec": {
   "display_name": "Python 3",
   "language": "python",
   "name": "python3"
  },
  "language_info": {
   "codemirror_mode": {
    "name": "ipython",
    "version": 3
   },
   "file_extension": ".py",
   "mimetype": "text/x-python",
   "name": "python",
   "nbconvert_exporter": "python",
   "pygments_lexer": "ipython3",
   "version": "3.8.5"
  }
 },
 "nbformat": 4,
 "nbformat_minor": 5
}
