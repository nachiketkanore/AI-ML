{
 "cells": [
  {
   "cell_type": "code",
   "execution_count": 1,
   "id": "urban-spanking",
   "metadata": {},
   "outputs": [],
   "source": [
    "import pandas as pd\n",
    "import numpy as np"
   ]
  },
  {
   "cell_type": "code",
   "execution_count": 2,
   "id": "secret-wednesday",
   "metadata": {},
   "outputs": [],
   "source": [
    "train = pd.read_csv('input/train.csv')\n",
    "test = pd.read_csv('input/test.csv')"
   ]
  },
  {
   "cell_type": "code",
   "execution_count": 3,
   "id": "center-being",
   "metadata": {},
   "outputs": [],
   "source": [
    "tables = [train, test]"
   ]
  },
  {
   "cell_type": "code",
   "execution_count": 6,
   "id": "postal-military",
   "metadata": {},
   "outputs": [],
   "source": [
    "total_missing = train.isnull().sum()"
   ]
  },
  {
   "cell_type": "code",
   "execution_count": 7,
   "id": "effective-words",
   "metadata": {},
   "outputs": [],
   "source": [
    "to_delete = total_missing[total_missing > (train.shape[0]/3.)]"
   ]
  },
  {
   "cell_type": "code",
   "execution_count": 8,
   "id": "addressed-while",
   "metadata": {},
   "outputs": [
    {
     "data": {
      "text/plain": [
       "Alley          1369\n",
       "FireplaceQu     690\n",
       "PoolQC         1453\n",
       "Fence          1179\n",
       "MiscFeature    1406\n",
       "dtype: int64"
      ]
     },
     "execution_count": 8,
     "metadata": {},
     "output_type": "execute_result"
    }
   ],
   "source": [
    "to_delete"
   ]
  },
  {
   "cell_type": "code",
   "execution_count": 9,
   "id": "virgin-coordinate",
   "metadata": {},
   "outputs": [],
   "source": [
    "for table in tables:\n",
    "    table.drop(list(to_delete.index), axis = 1, inplace = True)"
   ]
  },
  {
   "cell_type": "code",
   "execution_count": 10,
   "id": "planned-fighter",
   "metadata": {},
   "outputs": [],
   "source": [
    "num_feats = test.select_dtypes(include = ['float', 'int', 'bool']).columns.values"
   ]
  },
  {
   "cell_type": "code",
   "execution_count": 11,
   "id": "obvious-memphis",
   "metadata": {},
   "outputs": [
    {
     "data": {
      "text/plain": [
       "array(['Id', 'MSSubClass', 'LotFrontage', 'LotArea', 'OverallQual',\n",
       "       'OverallCond', 'YearBuilt', 'YearRemodAdd', 'MasVnrArea',\n",
       "       'BsmtFinSF1', 'BsmtFinSF2', 'BsmtUnfSF', 'TotalBsmtSF', '1stFlrSF',\n",
       "       '2ndFlrSF', 'LowQualFinSF', 'GrLivArea', 'BsmtFullBath',\n",
       "       'BsmtHalfBath', 'FullBath', 'HalfBath', 'BedroomAbvGr',\n",
       "       'KitchenAbvGr', 'TotRmsAbvGrd', 'Fireplaces', 'GarageYrBlt',\n",
       "       'GarageCars', 'GarageArea', 'WoodDeckSF', 'OpenPorchSF',\n",
       "       'EnclosedPorch', '3SsnPorch', 'ScreenPorch', 'PoolArea', 'MiscVal',\n",
       "       'MoSold', 'YrSold'], dtype=object)"
      ]
     },
     "execution_count": 11,
     "metadata": {},
     "output_type": "execute_result"
    }
   ],
   "source": [
    "num_feats"
   ]
  },
  {
   "cell_type": "code",
   "execution_count": 12,
   "id": "musical-statement",
   "metadata": {},
   "outputs": [],
   "source": [
    "cat_feats = train.select_dtypes(include = ['object']).columns.values"
   ]
  },
  {
   "cell_type": "code",
   "execution_count": 13,
   "id": "faced-contamination",
   "metadata": {},
   "outputs": [
    {
     "data": {
      "text/plain": [
       "array(['MSZoning', 'Street', 'LotShape', 'LandContour', 'Utilities',\n",
       "       'LotConfig', 'LandSlope', 'Neighborhood', 'Condition1',\n",
       "       'Condition2', 'BldgType', 'HouseStyle', 'RoofStyle', 'RoofMatl',\n",
       "       'Exterior1st', 'Exterior2nd', 'MasVnrType', 'ExterQual',\n",
       "       'ExterCond', 'Foundation', 'BsmtQual', 'BsmtCond', 'BsmtExposure',\n",
       "       'BsmtFinType1', 'BsmtFinType2', 'Heating', 'HeatingQC',\n",
       "       'CentralAir', 'Electrical', 'KitchenQual', 'Functional',\n",
       "       'GarageType', 'GarageFinish', 'GarageQual', 'GarageCond',\n",
       "       'PavedDrive', 'SaleType', 'SaleCondition'], dtype=object)"
      ]
     },
     "execution_count": 13,
     "metadata": {},
     "output_type": "execute_result"
    }
   ],
   "source": [
    "cat_feats"
   ]
  },
  {
   "cell_type": "code",
   "execution_count": 16,
   "id": "russian-influence",
   "metadata": {},
   "outputs": [
    {
     "data": {
      "text/plain": [
       "array(['Alley', 'FireplaceQu', 'PoolQC', 'Fence', 'MiscFeature'],\n",
       "      dtype=object)"
      ]
     },
     "execution_count": 16,
     "metadata": {},
     "output_type": "execute_result"
    }
   ],
   "source": [
    "to_delete.index.values"
   ]
  },
  {
   "cell_type": "code",
   "execution_count": null,
   "id": "suspended-defeat",
   "metadata": {},
   "outputs": [],
   "source": []
  },
  {
   "cell_type": "code",
   "execution_count": null,
   "id": "premium-consciousness",
   "metadata": {},
   "outputs": [],
   "source": []
  }
 ],
 "metadata": {
  "kernelspec": {
   "display_name": "Python 3",
   "language": "python",
   "name": "python3"
  },
  "language_info": {
   "codemirror_mode": {
    "name": "ipython",
    "version": 3
   },
   "file_extension": ".py",
   "mimetype": "text/x-python",
   "name": "python",
   "nbconvert_exporter": "python",
   "pygments_lexer": "ipython3",
   "version": "3.8.5"
  }
 },
 "nbformat": 4,
 "nbformat_minor": 5
}
