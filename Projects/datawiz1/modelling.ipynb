{
 "cells": [
  {
   "cell_type": "code",
   "execution_count": 56,
   "id": "accurate-mining",
   "metadata": {},
   "outputs": [],
   "source": [
    "import numpy as np\n",
    "import pandas as pd \n",
    "import matplotlib.pyplot as plt\n",
    "%matplotlib inline\n",
    "import datetime\n",
    "\n",
    "from sklearn.ensemble import StackingClassifier\n",
    "from sklearn.datasets import make_classification\n",
    "from sklearn.model_selection import cross_val_score\n",
    "from sklearn.model_selection import RepeatedStratifiedKFold\n",
    "from sklearn.linear_model import LogisticRegression\n",
    "from sklearn.neighbors import KNeighborsClassifier\n",
    "from sklearn.tree import DecisionTreeClassifier\n",
    "from sklearn.ensemble import RandomForestClassifier\n",
    "from sklearn.svm import SVC\n",
    "from sklearn.naive_bayes import GaussianNB\n"
   ]
  },
  {
   "cell_type": "code",
   "execution_count": 57,
   "id": "numerous-climb",
   "metadata": {},
   "outputs": [],
   "source": [
    "def get_dataset():\n",
    "    X_train = pd.read_csv('clean_data/X_train.csv')\n",
    "    y_train = pd.read_csv('clean_data/y_train.csv')\n",
    "    X_test = pd.read_csv('clean_data/X_test.csv')\n",
    "    return (X_train, y_train, X_test)"
   ]
  },
  {
   "cell_type": "code",
   "execution_count": 58,
   "id": "adolescent-planning",
   "metadata": {},
   "outputs": [],
   "source": [
    "def get_stacking():\n",
    "    level0 = []\n",
    "    level0.append(('lr', LogisticRegression()))\n",
    "    level0.append(('knn', KNeighborsClassifier()))\n",
    "    level0.append(('cart', DecisionTreeClassifier()))\n",
    "    level0.append(('svm', SVC()))\n",
    "    level0.append(('bayes', GaussianNB()))\n",
    "    \n",
    "    level1 = LogisticRegression()\n",
    "    \n",
    "    model = StackingClassifier(estimators=level0, final_estimator=level1, cv = 5)\n",
    "    return model"
   ]
  },
  {
   "cell_type": "code",
   "execution_count": 59,
   "id": "breathing-video",
   "metadata": {},
   "outputs": [],
   "source": [
    "def get_models():\n",
    "    models = {\n",
    "#         'lr' : LogisticRegression(),\n",
    "#         'knn' : KNeighborsClassifier(),\n",
    "#         'cart' : DecisionTreeClassifier(),\n",
    "#         'svm' : SVC(),\n",
    "#         'bayes' : GaussianNB(),\n",
    "#         'stacking' : get_stacking(),\n",
    "        'rfc' : RandomForestClassifier()\n",
    "        \n",
    "    }\n",
    "    return models"
   ]
  },
  {
   "cell_type": "code",
   "execution_count": null,
   "id": "rubber-variety",
   "metadata": {},
   "outputs": [],
   "source": []
  },
  {
   "cell_type": "code",
   "execution_count": 60,
   "id": "similar-colony",
   "metadata": {},
   "outputs": [],
   "source": [
    "def get_scores(model):\n",
    "    cv = RepeatedStratifiedKFold(n_splits=3, n_repeats=3, random_state=1)\n",
    "    data = get_dataset()\n",
    "    X, y = data[0], data[1]\n",
    "    \n",
    "    scores = cross_val_score(model, X, y, scoring='accuracy', cv = cv, n_jobs=-1, error_score='raise')\n",
    "    model.fit(X, y)\n",
    "    preds = model.predict(data[2])\n",
    "    return (np.mean(scores), preds)\n",
    "    "
   ]
  },
  {
   "cell_type": "code",
   "execution_count": 61,
   "id": "friendly-church",
   "metadata": {},
   "outputs": [],
   "source": [
    "def make_sub(name, score, answers):\n",
    "    now = datetime.datetime.now()\n",
    "    file_name = name + '_' + str(score) + '_' + str(now.strftime(\"%Y-%m-%d-%H-%M\")) + '.csv'\n",
    "    test = get_dataset()\n",
    "    test = test[2]\n",
    "    out = pd.DataFrame(\n",
    "        {\n",
    "            'Id' : test['Id'].values,\n",
    "            'Answer' : answers\n",
    "        }\n",
    "    )\n",
    "    out.to_csv(file_name, index = False)\n",
    "    print('File ', file_name, ' created in output/')"
   ]
  },
  {
   "cell_type": "code",
   "execution_count": 62,
   "id": "invisible-slovakia",
   "metadata": {
    "scrolled": false
   },
   "outputs": [
    {
     "name": "stdout",
     "output_type": "stream",
     "text": [
      "Working on rfc\n"
     ]
    },
    {
     "name": "stderr",
     "output_type": "stream",
     "text": [
      "<ipython-input-60-fabe94de17f7>:7: DataConversionWarning: A column-vector y was passed when a 1d array was expected. Please change the shape of y to (n_samples,), for example using ravel().\n",
      "  model.fit(X, y)\n"
     ]
    },
    {
     "name": "stdout",
     "output_type": "stream",
     "text": [
      "File  rfc_0.8596148614511679_2021-02-15-20-34.csv  created in output/\n",
      "{'rfc': (0.8596148614511679, array([0, 0, 0, ..., 0, 1, 0]))}\n"
     ]
    }
   ],
   "source": [
    "scores = {}\n",
    "\n",
    "models = get_models()\n",
    "for name, model in models.items():\n",
    "    print('Working on {}'.format(name))\n",
    "    scores[name] = get_scores(model)\n",
    "    make_sub(name, scores[name][0], scores[name][1])\n",
    "print(scores)"
   ]
  },
  {
   "cell_type": "code",
   "execution_count": null,
   "id": "northern-dealing",
   "metadata": {},
   "outputs": [],
   "source": []
  },
  {
   "cell_type": "code",
   "execution_count": null,
   "id": "reverse-program",
   "metadata": {},
   "outputs": [],
   "source": []
  },
  {
   "cell_type": "code",
   "execution_count": null,
   "id": "demanding-tracker",
   "metadata": {},
   "outputs": [],
   "source": []
  }
 ],
 "metadata": {
  "kernelspec": {
   "display_name": "Python 3",
   "language": "python",
   "name": "python3"
  },
  "language_info": {
   "codemirror_mode": {
    "name": "ipython",
    "version": 3
   },
   "file_extension": ".py",
   "mimetype": "text/x-python",
   "name": "python",
   "nbconvert_exporter": "python",
   "pygments_lexer": "ipython3",
   "version": "3.8.5"
  }
 },
 "nbformat": 4,
 "nbformat_minor": 5
}
