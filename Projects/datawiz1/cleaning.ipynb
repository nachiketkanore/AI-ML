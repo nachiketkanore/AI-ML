{
 "cells": [
  {
   "cell_type": "code",
   "execution_count": 1,
   "id": "floral-orbit",
   "metadata": {},
   "outputs": [],
   "source": [
    "import numpy as np\n",
    "import pandas as pd"
   ]
  },
  {
   "cell_type": "code",
   "execution_count": 2,
   "id": "characteristic-money",
   "metadata": {},
   "outputs": [],
   "source": [
    "train = pd.read_csv('data/train.csv')\n",
    "test = pd.read_csv('data/test.csv')"
   ]
  },
  {
   "cell_type": "code",
   "execution_count": 3,
   "id": "collaborative-tenant",
   "metadata": {},
   "outputs": [
    {
     "data": {
      "text/plain": [
       "((34308, 22), (14537, 21))"
      ]
     },
     "execution_count": 3,
     "metadata": {},
     "output_type": "execute_result"
    }
   ],
   "source": [
    "train.shape, test.shape"
   ]
  },
  {
   "cell_type": "code",
   "execution_count": 4,
   "id": "assisted-found",
   "metadata": {},
   "outputs": [
    {
     "data": {
      "text/plain": [
       "Index(['Age', 'SSec_Category', 'Gender', 'Hobby', 'Education_Duration',\n",
       "       'Housing', 'Profession', 'Loan Status', 'Working_Hours', 'Investment',\n",
       "       'Loan', 'Dependents', 'Marital_Status', 'Yearly_Breaks',\n",
       "       'Number_of_Siblings', 'Employer_Kind', 'City', 'Income', 'Answer',\n",
       "       'Country', 'Debt_Paid', 'Id'],\n",
       "      dtype='object')"
      ]
     },
     "execution_count": 4,
     "metadata": {},
     "output_type": "execute_result"
    }
   ],
   "source": [
    "train.columns"
   ]
  },
  {
   "cell_type": "code",
   "execution_count": 5,
   "id": "intense-scanner",
   "metadata": {},
   "outputs": [
    {
     "data": {
      "text/plain": [
       "Index(['Age', 'SSec_Category', 'Gender', 'Hobby', 'Education_Duration',\n",
       "       'Housing', 'Profession', 'Loan Status', 'Working_Hours', 'Investment',\n",
       "       'Loan', 'Dependents', 'Marital_Status', 'Yearly_Breaks',\n",
       "       'Number_of_Siblings', 'Employer_Kind', 'City', 'Income', 'Country',\n",
       "       'Debt_Paid', 'Id'],\n",
       "      dtype='object')"
      ]
     },
     "execution_count": 5,
     "metadata": {},
     "output_type": "execute_result"
    }
   ],
   "source": [
    "test.columns"
   ]
  },
  {
   "cell_type": "code",
   "execution_count": 6,
   "id": "convertible-narrative",
   "metadata": {},
   "outputs": [
    {
     "name": "stdout",
     "output_type": "stream",
     "text": [
      "(34308, 21) (34308,)\n"
     ]
    }
   ],
   "source": [
    "X_train = train.drop('Answer', axis = 1)\n",
    "y_train = train.Answer\n",
    "\n",
    "print(X_train.shape, y_train.shape)"
   ]
  },
  {
   "cell_type": "code",
   "execution_count": 7,
   "id": "young-delivery",
   "metadata": {},
   "outputs": [
    {
     "name": "stdout",
     "output_type": "stream",
     "text": [
      "34308\n"
     ]
    }
   ],
   "source": [
    "ntrain = X_train.shape[0]\n",
    "print(ntrain)"
   ]
  },
  {
   "cell_type": "code",
   "execution_count": 8,
   "id": "copyrighted-indianapolis",
   "metadata": {},
   "outputs": [
    {
     "name": "stdout",
     "output_type": "stream",
     "text": [
      "(14537, 21)\n"
     ]
    }
   ],
   "source": [
    "X_test = test\n",
    "print(X_test.shape)"
   ]
  },
  {
   "cell_type": "code",
   "execution_count": 9,
   "id": "material-parallel",
   "metadata": {},
   "outputs": [
    {
     "name": "stdout",
     "output_type": "stream",
     "text": [
      "(48845, 21)\n"
     ]
    }
   ],
   "source": [
    "data = pd.concat([X_train, X_test]).reset_index(drop = True)\n",
    "print(data.shape)"
   ]
  },
  {
   "cell_type": "code",
   "execution_count": 10,
   "id": "sharing-story",
   "metadata": {},
   "outputs": [
    {
     "name": "stdout",
     "output_type": "stream",
     "text": [
      "(48845, 41)\n"
     ]
    }
   ],
   "source": [
    "data = pd.get_dummies(data)\n",
    "print(data.shape)"
   ]
  },
  {
   "cell_type": "code",
   "execution_count": 11,
   "id": "special-miniature",
   "metadata": {},
   "outputs": [
    {
     "data": {
      "text/plain": [
       "Age                                         0\n",
       "SSec_Category                               0\n",
       "Hobby                                       0\n",
       "Education_Duration                          0\n",
       "Profession                                  0\n",
       "Working_Hours                            6978\n",
       "Investment                                  0\n",
       "Loan                                        0\n",
       "Dependents                                  0\n",
       "Yearly_Breaks                               0\n",
       "Number_of_Siblings                          0\n",
       "City                                        0\n",
       "Income                                      0\n",
       "Debt_Paid                                   0\n",
       "Id                                          0\n",
       "Gender_F                                    0\n",
       "Gender_M                                    0\n",
       "Housing_Apartment                           0\n",
       "Housing_Bungalow                            0\n",
       "Housing_Condo                               0\n",
       "Housing_Slum                                0\n",
       "Housing_Trailer                             0\n",
       "Housing_Treehouse                           0\n",
       "Loan Status_Applied                         0\n",
       "Loan Status_Critical                        0\n",
       "Loan Status_EMI                             0\n",
       "Loan Status_In Search                       0\n",
       "Loan Status_Not Applied                     0\n",
       "Loan Status_Overdue                         0\n",
       "Loan Status_Paid                            0\n",
       "Loan Status_Pending                         0\n",
       "Marital_Status_Divorced                     0\n",
       "Marital_Status_Divorced with Children       0\n",
       "Marital_Status_Engaged                      0\n",
       "Marital_Status_Married                      0\n",
       "Marital_Status_Separated                    0\n",
       "Marital_Status_Single                       0\n",
       "Employer_Kind_MNC                           0\n",
       "Employer_Kind_Self-employed                 0\n",
       "Employer_Kind_Startup                       0\n",
       "Country_Canada                              0\n",
       "dtype: int64"
      ]
     },
     "execution_count": 11,
     "metadata": {},
     "output_type": "execute_result"
    }
   ],
   "source": [
    "data.isna().sum()"
   ]
  },
  {
   "cell_type": "code",
   "execution_count": 12,
   "id": "respiratory-premium",
   "metadata": {},
   "outputs": [],
   "source": [
    "data.fillna(0, inplace=True)"
   ]
  },
  {
   "cell_type": "code",
   "execution_count": 13,
   "id": "surrounded-latest",
   "metadata": {},
   "outputs": [
    {
     "data": {
      "text/plain": [
       "Age                                      0\n",
       "SSec_Category                            0\n",
       "Hobby                                    0\n",
       "Education_Duration                       0\n",
       "Profession                               0\n",
       "Working_Hours                            0\n",
       "Investment                               0\n",
       "Loan                                     0\n",
       "Dependents                               0\n",
       "Yearly_Breaks                            0\n",
       "Number_of_Siblings                       0\n",
       "City                                     0\n",
       "Income                                   0\n",
       "Debt_Paid                                0\n",
       "Id                                       0\n",
       "Gender_F                                 0\n",
       "Gender_M                                 0\n",
       "Housing_Apartment                        0\n",
       "Housing_Bungalow                         0\n",
       "Housing_Condo                            0\n",
       "Housing_Slum                             0\n",
       "Housing_Trailer                          0\n",
       "Housing_Treehouse                        0\n",
       "Loan Status_Applied                      0\n",
       "Loan Status_Critical                     0\n",
       "Loan Status_EMI                          0\n",
       "Loan Status_In Search                    0\n",
       "Loan Status_Not Applied                  0\n",
       "Loan Status_Overdue                      0\n",
       "Loan Status_Paid                         0\n",
       "Loan Status_Pending                      0\n",
       "Marital_Status_Divorced                  0\n",
       "Marital_Status_Divorced with Children    0\n",
       "Marital_Status_Engaged                   0\n",
       "Marital_Status_Married                   0\n",
       "Marital_Status_Separated                 0\n",
       "Marital_Status_Single                    0\n",
       "Employer_Kind_MNC                        0\n",
       "Employer_Kind_Self-employed              0\n",
       "Employer_Kind_Startup                    0\n",
       "Country_Canada                           0\n",
       "dtype: int64"
      ]
     },
     "execution_count": 13,
     "metadata": {},
     "output_type": "execute_result"
    }
   ],
   "source": [
    "data.isna().sum()"
   ]
  },
  {
   "cell_type": "code",
   "execution_count": 14,
   "id": "cooperative-butterfly",
   "metadata": {},
   "outputs": [
    {
     "name": "stdout",
     "output_type": "stream",
     "text": [
      "(34308, 41) (34308,) (14537, 41)\n"
     ]
    }
   ],
   "source": [
    "X_train = data[:ntrain]\n",
    "X_test = data[ntrain:]\n",
    "print(X_train.shape, y_train.shape, X_test.shape)"
   ]
  },
  {
   "cell_type": "code",
   "execution_count": null,
   "id": "eastern-branch",
   "metadata": {},
   "outputs": [],
   "source": []
  },
  {
   "cell_type": "code",
   "execution_count": 15,
   "id": "processed-haiti",
   "metadata": {},
   "outputs": [],
   "source": [
    "X_train.to_csv('clean_data/X_train.csv', index = False)\n",
    "y_train.to_csv('clean_data/y_train.csv', index = False)\n",
    "X_test.to_csv('clean_data/X_test.csv', index = False)"
   ]
  },
  {
   "cell_type": "code",
   "execution_count": 19,
   "id": "structured-discretion",
   "metadata": {},
   "outputs": [
    {
     "data": {
      "text/plain": [
       "0    26133\n",
       "1     8175\n",
       "Name: Answer, dtype: int64"
      ]
     },
     "execution_count": 19,
     "metadata": {},
     "output_type": "execute_result"
    }
   ],
   "source": [
    "train.Answer.value_counts()"
   ]
  },
  {
   "cell_type": "code",
   "execution_count": null,
   "id": "german-uganda",
   "metadata": {},
   "outputs": [],
   "source": []
  }
 ],
 "metadata": {
  "kernelspec": {
   "display_name": "Python 3",
   "language": "python",
   "name": "python3"
  },
  "language_info": {
   "codemirror_mode": {
    "name": "ipython",
    "version": 3
   },
   "file_extension": ".py",
   "mimetype": "text/x-python",
   "name": "python",
   "nbconvert_exporter": "python",
   "pygments_lexer": "ipython3",
   "version": "3.8.5"
  }
 },
 "nbformat": 4,
 "nbformat_minor": 5
}
